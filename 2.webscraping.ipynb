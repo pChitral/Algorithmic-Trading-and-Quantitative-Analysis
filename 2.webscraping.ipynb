{
 "cells": [
  {
   "attachments": {},
   "cell_type": "markdown",
   "metadata": {},
   "source": [
    "## Getting fundamental data from yahoo finance"
   ]
  },
  {
   "cell_type": "code",
   "execution_count": 1,
   "metadata": {},
   "outputs": [],
   "source": [
    "import requests\n",
    "from bs4 import BeautifulSoup\n",
    "\n",
    "income_statement = {}\n",
    "\n",
    "url = \"https://finance.yahoo.com/quote/AAPL/financials?p=AAPL\"\n",
    "\n",
    "# It is important to send headers because the request won't be served as yahoo finance loathes when developers webscrape. \n",
    "\n",
    "headers = {\"User-Agent\" : \"Chrome/96.0.4664.110\"}\n",
    "page = requests.get(url, headers=headers)\n",
    "page_content = page.content\n",
    "soup = BeautifulSoup(page_content,\"html.parser\")\n",
    "\n",
    "# First we'll just grab the section in our html code which has all the sauce for the table and then work our way to the end goal.\n",
    "tabl = soup.find_all(\"div\" , {\"class\" : \"M(0) Whs(n) BdEnd Bdc($seperatorColor) D(itb)\"})\n",
    "\n",
    "# That we've got the table in our hand, we may iterate through each of it's row to get the data and store is in a dictionary using vanilla python magic. \n",
    "for t in tabl:\n",
    "    rows = t.find_all(\"div\" , {\"class\": \"D(tbr) fi-row Bgc($hoverBgColor):h\"})\n",
    "    for row in rows:\n",
    "        income_statement[row.get_text(separator=\"|\").split(\"|\")[0]] = row.get_text(separator=\"|\").split(\"|\")[1] # 1st value in the list (list that we get after splitting it on \"|\") has the data for the current year. \n",
    "        # Although we may fetch the data for the previous years if we want to by simply getting all that we have by using [1:] instead of [1]\n",
    "        \n"
   ]
  },
  {
   "cell_type": "code",
   "execution_count": 2,
   "metadata": {},
   "outputs": [
    {
     "data": {
      "text/plain": [
       "{'Total Revenue': '387,537,000',\n",
       " 'Cost of Revenue': '220,666,000',\n",
       " 'Gross Profit': '166,871,000',\n",
       " 'Operating Expense': '52,906,000',\n",
       " 'Operating Income': '113,965,000',\n",
       " 'Net Non Operating Interest Income Expense': '-197,000',\n",
       " 'Other Income Expense': '-283,000',\n",
       " 'Pretax Income': '113,485,000',\n",
       " 'Tax Provision': '18,314,000',\n",
       " 'Net Income Common Stockholders': '95,171,000',\n",
       " 'Diluted NI Available to Com Stockholders': '95,171,000',\n",
       " 'Basic EPS': '-',\n",
       " 'Diluted EPS': '-',\n",
       " 'Basic Average Shares': '-',\n",
       " 'Diluted Average Shares': '-',\n",
       " 'Total Operating Income as Reported': '113,965,000',\n",
       " 'Total Expenses': '273,572,000',\n",
       " 'Net Income from Continuing & Discontinued Operation': '95,171,000',\n",
       " 'Normalized Income': '95,171,000',\n",
       " 'Interest Income': '3,043,000',\n",
       " 'Interest Expense': '3,240,000',\n",
       " 'Net Interest Income': '-197,000',\n",
       " 'EBIT': '116,725,000',\n",
       " 'EBITDA': '128,048,000',\n",
       " 'Reconciled Cost of Revenue': '220,666,000',\n",
       " 'Reconciled Depreciation': '11,323,000',\n",
       " 'Net Income from Continuing Operation Net Minority Interest': '95,171,000',\n",
       " 'Normalized EBITDA': '128,048,000',\n",
       " 'Tax Rate for Calcs': '0',\n",
       " 'Tax Effect of Unusual Items': '0'}"
      ]
     },
     "execution_count": 2,
     "metadata": {},
     "output_type": "execute_result"
    }
   ],
   "source": [
    "income_statement"
   ]
  },
  {
   "attachments": {},
   "cell_type": "markdown",
   "metadata": {},
   "source": [
    "## Now getting data for several tickers"
   ]
  },
  {
   "cell_type": "code",
   "execution_count": 3,
   "metadata": {},
   "outputs": [
    {
     "name": "stderr",
     "output_type": "stream",
     "text": [
      "/var/folders/q4/72ybtynd5sjf5ppl_5vpsw080000gn/T/ipykernel_32399/3212430218.py:96: FutureWarning: The default value of regex will change from True to False in a future version.\n",
      "  income_statatement_dict[ticker][col] = income_statatement_dict[ticker][col].str.replace(\n",
      "/var/folders/q4/72ybtynd5sjf5ppl_5vpsw080000gn/T/ipykernel_32399/3212430218.py:101: FutureWarning: The default value of regex will change from True to False in a future version.\n",
      "  cashflow_st_dict[ticker][col] = cashflow_st_dict[ticker][col].str.replace(\n",
      "/var/folders/q4/72ybtynd5sjf5ppl_5vpsw080000gn/T/ipykernel_32399/3212430218.py:107: FutureWarning: The default value of regex will change from True to False in a future version.\n",
      "  balance_sheet_dict[ticker][col] = balance_sheet_dict[ticker][col].str.replace(\n"
     ]
    }
   ],
   "source": [
    "import requests\n",
    "from bs4 import BeautifulSoup\n",
    "import pandas as pd\n",
    "\n",
    "tickers = [\"AAPL\", \"FB\", \"CSCO\", \"INFY.NS\", \"3988.HK\"]\n",
    "income_statatement_dict = {}\n",
    "balance_sheet_dict = {}\n",
    "cashflow_st_dict = {}\n",
    "\n",
    "for ticker in tickers:\n",
    "    # scraping income statement\n",
    "    url = f\"https://finance.yahoo.com/quote/{ticker}/financials?p={ticker}\"\n",
    "\n",
    "    income_statement = {}\n",
    "    # used to store the headings of the tables that we'll be scraping.\n",
    "    table_title = {}\n",
    "\n",
    "    headers = {\"User-Agent\": \"Chrome/96.0.4664.110\"}\n",
    "    page = requests.get(url, headers=headers)\n",
    "    page_content = page.content\n",
    "\n",
    "    soup = BeautifulSoup(page_content, \"html.parser\")\n",
    "    tabl = soup.find_all(\n",
    "        \"div\", {\"class\": \"M(0) Whs(n) BdEnd Bdc($seperatorColor) D(itb)\"})\n",
    "\n",
    "    for t in tabl:\n",
    "        heading = t.find_all(\"div\", {\"class\": \"D(tbr) C($primaryColor)\"})\n",
    "        for top_row in heading:\n",
    "            table_title[top_row.get_text(separator=\"|\").split(\n",
    "                \"|\")[0]] = top_row.get_text(separator=\"|\").split(\"|\")[1:]\n",
    "        rows = t.find_all(\n",
    "            \"div\", {\"class\": \"D(tbr) fi-row Bgc($hoverBgColor):h\"})\n",
    "        for row in rows:\n",
    "            income_statement[row.get_text(separator=\"|\").split(\n",
    "                \"|\")[0]] = row.get_text(separator=\"|\").split(\"|\")[1:]\n",
    "\n",
    "    temp = pd.DataFrame(income_statement).T\n",
    "    temp.columns = table_title[\"Breakdown\"]\n",
    "    income_statatement_dict[ticker] = temp\n",
    "\n",
    "    # scraping balance sheet statement\n",
    "    url = f\"https://finance.yahoo.com/quote/{ticker}/balance-sheet?p={ticker}\"\n",
    "    balance_sheet = {}\n",
    "    table_title = {}\n",
    "\n",
    "    headers = {\"User-Agent\": \"Chrome/96.0.4664.110\"}\n",
    "    page = requests.get(url, headers=headers)\n",
    "    page_content = page.content\n",
    "    soup = BeautifulSoup(page_content, \"html.parser\")\n",
    "    tabl = soup.find_all(\n",
    "        \"div\", {\"class\": \"M(0) Whs(n) BdEnd Bdc($seperatorColor) D(itb)\"})\n",
    "    for t in tabl:\n",
    "        heading = t.find_all(\"div\", {\"class\": \"D(tbr) C($primaryColor)\"})\n",
    "        for top_row in heading:\n",
    "            table_title[top_row.get_text(separator=\"|\").split(\n",
    "                \"|\")[0]] = top_row.get_text(separator=\"|\").split(\"|\")[1:]\n",
    "        rows = t.find_all(\n",
    "            \"div\", {\"class\": \"D(tbr) fi-row Bgc($hoverBgColor):h\"})\n",
    "        for row in rows:\n",
    "            balance_sheet[row.get_text(separator=\"|\").split(\n",
    "                \"|\")[0]] = row.get_text(separator=\"|\").split(\"|\")[1:]\n",
    "\n",
    "    temp = pd.DataFrame(balance_sheet).T\n",
    "    temp.columns = table_title[\"Breakdown\"]\n",
    "    balance_sheet_dict[ticker] = temp\n",
    "\n",
    "    # scraping cashflow statement\n",
    "    url = f\"https://finance.yahoo.com/quote/{ticker}/cash-flow?p={ticker}\"\n",
    "    cashflow_statement = {}\n",
    "    table_title = {}\n",
    "\n",
    "    headers = {\"User-Agent\": \"Chrome/96.0.4664.110\"}\n",
    "    page = requests.get(url, headers=headers)\n",
    "    page_content = page.content\n",
    "    soup = BeautifulSoup(page_content, \"html.parser\")\n",
    "    tabl = soup.find_all(\n",
    "        \"div\", {\"class\": \"M(0) Whs(n) BdEnd Bdc($seperatorColor) D(itb)\"})\n",
    "    for t in tabl:\n",
    "        heading = t.find_all(\"div\", {\"class\": \"D(tbr) C($primaryColor)\"})\n",
    "        for top_row in heading:\n",
    "            table_title[top_row.get_text(separator=\"|\").split(\n",
    "                \"|\")[0]] = top_row.get_text(separator=\"|\").split(\"|\")[1:]\n",
    "        rows = t.find_all(\n",
    "            \"div\", {\"class\": \"D(tbr) fi-row Bgc($hoverBgColor):h\"})\n",
    "        for row in rows:\n",
    "            cashflow_statement[row.get_text(separator=\"|\").split(\n",
    "                \"|\")[0]] = row.get_text(separator=\"|\").split(\"|\")[1:]\n",
    "\n",
    "    temp = pd.DataFrame(cashflow_statement).T\n",
    "    temp.columns = table_title[\"Breakdown\"]\n",
    "    cashflow_st_dict[ticker] = temp\n",
    "\n",
    "# converting dataframe values to numeric\n",
    "for ticker in tickers:\n",
    "    for col in income_statatement_dict[ticker].columns:\n",
    "        income_statatement_dict[ticker][col] = income_statatement_dict[ticker][col].str.replace(\n",
    "            ',|- ', '')\n",
    "        income_statatement_dict[ticker][col] = pd.to_numeric(\n",
    "            income_statatement_dict[ticker][col], errors='coerce')\n",
    "        \n",
    "        cashflow_st_dict[ticker][col] = cashflow_st_dict[ticker][col].str.replace(\n",
    "            ',|- ', '')\n",
    "        cashflow_st_dict[ticker][col] = pd.to_numeric(\n",
    "            cashflow_st_dict[ticker][col], errors='coerce')\n",
    "        \n",
    "        if col != \"ttm\":  # yahoo has ttm column for income statement and cashflow statement only\n",
    "            balance_sheet_dict[ticker][col] = balance_sheet_dict[ticker][col].str.replace(\n",
    "                ',|- ', '')\n",
    "            balance_sheet_dict[ticker][col] = pd.to_numeric(\n",
    "                balance_sheet_dict[ticker][col], errors='coerce')\n"
   ]
  },
  {
   "cell_type": "code",
   "execution_count": 4,
   "metadata": {},
   "outputs": [
    {
     "data": {
      "text/plain": [
       "dict_keys(['Total Assets', 'Total Liabilities Net Minority Interest', 'Total Equity Gross Minority Interest', 'Total Capitalization', 'Preferred Stock Equity', 'Common Stock Equity', 'Net Tangible Assets', 'Invested Capital', 'Tangible Book Value', 'Total Debt', 'Share Issued', 'Ordinary Shares Number'])"
      ]
     },
     "execution_count": 4,
     "metadata": {},
     "output_type": "execute_result"
    }
   ],
   "source": [
    "balance_sheet.keys()"
   ]
  },
  {
   "attachments": {},
   "cell_type": "markdown",
   "metadata": {},
   "source": [
    "## Getting key statistics "
   ]
  },
  {
   "cell_type": "code",
   "execution_count": 5,
   "metadata": {},
   "outputs": [],
   "source": [
    "import requests\n",
    "from bs4 import BeautifulSoup\n",
    "\n",
    "tickers = [\"AAPL\",\"FB\",\"CSCO\",\"INFY.NS\",\"3988.HK\"]\n",
    "key_statistics = {}\n",
    "\n",
    "for ticker in tickers:\n",
    "    #scraping key statistics\n",
    "    url = f\"https://finance.yahoo.com/quote/{ticker}/key-statistics?p={ticker}\"\n",
    "    headers = {\"User-Agent\" : \"Chrome/96.0.4664.110\"}\n",
    "    page = requests.get(url, headers=headers)\n",
    "    page_content = page.content\n",
    "    soup = BeautifulSoup(page_content,\"html.parser\")\n",
    "    tabl = soup.find_all(\"table\" , {\"class\" : \"W(100%) Bdcl(c)\"}) #remove/add the trailing space if getting error\n",
    "    \n",
    "    temp_stats = {}\n",
    "    for t in tabl:\n",
    "        rows = t.find_all(\"tr\")\n",
    "        for row in rows:\n",
    "            temp_stats[row.get_text(separator=\"|\").split(\"|\")[0]] = row.get_text(separator=\"|\").split(\"|\")[-1]\n",
    "    \n",
    "    key_statistics[ticker] = temp_stats"
   ]
  },
  {
   "cell_type": "code",
   "execution_count": 6,
   "metadata": {},
   "outputs": [
    {
     "data": {
      "text/plain": [
       "{'Beta (5Y Monthly)': '1.30',\n",
       " '52-Week Change': '-4.87%',\n",
       " 'S&P500 52-Week Change': '-9.11%',\n",
       " '52 Week High': '176.15',\n",
       " '52 Week Low': '124.17',\n",
       " '50-Day Moving Average': '152.94',\n",
       " '200-Day Moving Average': '148.99',\n",
       " 'Avg Vol (3 month)': '66.49M',\n",
       " 'Avg Vol (10 day)': '54.94M',\n",
       " 'Shares Outstanding': '15.82B',\n",
       " 'Implied Shares Outstanding': 'N/A',\n",
       " 'Float': '15.81B',\n",
       " '% Held by Insiders': '0.07%',\n",
       " '% Held by Institutions': '61.29%',\n",
       " 'Shares Short (Mar 14, 2023)': '107.42M',\n",
       " 'Short Ratio (Mar 14, 2023)': '1.75',\n",
       " 'Short % of Float (Mar 14, 2023)': '0.68%',\n",
       " 'Short % of Shares Outstanding (Mar 14, 2023)': '0.68%',\n",
       " 'Shares Short (prior month Feb 14, 2023)': '104.34M',\n",
       " 'Forward Annual Dividend Rate': '0.92',\n",
       " 'Forward Annual Dividend Yield': '0.56%',\n",
       " 'Trailing Annual Dividend Rate': '0.91',\n",
       " 'Trailing Annual Dividend Yield': '0.56%',\n",
       " '5 Year Average Dividend Yield': '0.94',\n",
       " 'Payout Ratio': '15.45%',\n",
       " 'Dividend Date': 'Feb 15, 2023',\n",
       " 'Ex-Dividend Date': 'Feb 09, 2023',\n",
       " 'Last Split Factor': '4:1',\n",
       " 'Last Split Date': 'Aug 30, 2020',\n",
       " 'Fiscal Year Ends': 'Sep 23, 2022',\n",
       " 'Most Recent Quarter': 'Dec 30, 2022',\n",
       " 'Profit Margin': '24.56%',\n",
       " 'Operating Margin': '29.41%',\n",
       " 'Return on Assets': '19.57%',\n",
       " 'Return on Equity': '147.94%',\n",
       " 'Revenue': '387.54B',\n",
       " 'Revenue Per Share': '24.08',\n",
       " 'Quarterly Revenue Growth': '-5.50%',\n",
       " 'Gross Profit': '170.78B',\n",
       " 'EBITDA': '125.29B',\n",
       " 'Net Income Avi to Common': '95.17B',\n",
       " 'Diluted EPS': '5.90',\n",
       " 'Quarterly Earnings Growth': '-13.40%',\n",
       " 'Total Cash': '51.36B',\n",
       " 'Total Cash Per Share': '3.25',\n",
       " 'Total Debt': '111.11B',\n",
       " 'Total Debt/Equity': '195.87',\n",
       " 'Current Ratio': '0.94',\n",
       " 'Book Value Per Share': '3.58',\n",
       " 'Operating Cash Flow': '109.19B',\n",
       " 'Levered Free Cash Flow': '84.73B'}"
      ]
     },
     "execution_count": 6,
     "metadata": {},
     "output_type": "execute_result"
    }
   ],
   "source": [
    "key_statistics[\"AAPL\"]"
   ]
  },
  {
   "cell_type": "code",
   "execution_count": null,
   "metadata": {},
   "outputs": [],
   "source": []
  }
 ],
 "metadata": {
  "kernelspec": {
   "display_name": "base",
   "language": "python",
   "name": "python3"
  },
  "language_info": {
   "codemirror_mode": {
    "name": "ipython",
    "version": 3
   },
   "file_extension": ".py",
   "mimetype": "text/x-python",
   "name": "python",
   "nbconvert_exporter": "python",
   "pygments_lexer": "ipython3",
   "version": "3.9.16"
  },
  "orig_nbformat": 4,
  "vscode": {
   "interpreter": {
    "hash": "cd78fef2128015050713e82ca51c6520b11aee7c9ee8df750520bbbc7384cbaa"
   }
  }
 },
 "nbformat": 4,
 "nbformat_minor": 2
}
