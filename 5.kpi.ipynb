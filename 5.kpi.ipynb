{
 "cells": [
  {
   "attachments": {},
   "cell_type": "markdown",
   "metadata": {},
   "source": [
    "# CAGR\n"
   ]
  },
  {
   "cell_type": "code",
   "execution_count": 1,
   "metadata": {},
   "outputs": [
    {
     "name": "stdout",
     "output_type": "stream",
     "text": [
      "[*********************100%***********************]  1 of 1 completed\n",
      "[*********************100%***********************]  1 of 1 completed\n",
      "[*********************100%***********************]  1 of 1 completed\n",
      "CAGR of AMZN = -0.29965501007518025\n",
      "CAGR of GOOG = 0.08435634116713975\n",
      "CAGR of MSFT = 0.3329785025803442\n"
     ]
    }
   ],
   "source": [
    "# Import necesary libraries\n",
    "import yfinance as yf\n",
    "\n",
    "# Download historical data for required stocks\n",
    "tickers = [\"AMZN\", \"GOOG\", \"MSFT\"]\n",
    "ohlcv_data = {}\n",
    "\n",
    "# looping over tickers and storing OHLCV dataframe in dictionary\n",
    "for ticker in tickers:\n",
    "    temp = yf.download(ticker, period='6mo', interval='1d')\n",
    "    temp.dropna(how=\"any\", inplace=True)\n",
    "    ohlcv_data[ticker] = temp\n",
    "\n",
    "\n",
    "def CAGR(DF):\n",
    "    \"function to calculate the Cumulative Annual Growth Rate of a trading strategy\"\n",
    "    df = DF.copy()\n",
    "    df[\"return\"] = DF[\"Adj Close\"].pct_change()\n",
    "    df[\"cum_return\"] = (1 + df[\"return\"]).cumprod()\n",
    "    n = len(df)/252\n",
    "    CAGR = (df[\"cum_return\"][-1])**(1/n) - 1\n",
    "    return CAGR\n",
    "\n",
    "\n",
    "for ticker in ohlcv_data:\n",
    "    print(\"CAGR of {} = {}\".format(ticker, CAGR(ohlcv_data[ticker])))\n"
   ]
  },
  {
   "attachments": {},
   "cell_type": "markdown",
   "metadata": {},
   "source": [
    "# Volatility\n"
   ]
  },
  {
   "cell_type": "code",
   "execution_count": 2,
   "metadata": {},
   "outputs": [
    {
     "name": "stdout",
     "output_type": "stream",
     "text": [
      "[*********************100%***********************]  1 of 1 completed\n",
      "[*********************100%***********************]  1 of 1 completed\n",
      "[*********************100%***********************]  1 of 1 completed\n",
      "vol for AMZN = 0.43964800970490847\n",
      "vol for GOOG = 0.3968678534888596\n",
      "vol for MSFT = 0.34857456252806274\n"
     ]
    }
   ],
   "source": [
    "import numpy as np\n",
    "# Download historical data for required stocks\n",
    "tickers = [\"AMZN\", \"GOOG\", \"MSFT\"]\n",
    "ohlcv_data = {}\n",
    "\n",
    "# looping over tickers and storing OHLCV dataframe in dictionary\n",
    "for ticker in tickers:\n",
    "    temp = yf.download(ticker, period='7mo', interval='1d')\n",
    "    temp.dropna(how=\"any\", inplace=True)\n",
    "    ohlcv_data[ticker] = temp\n",
    "\n",
    "\n",
    "def volatility(DF):\n",
    "    \"function to calculate annualized volatility of a trading strategy\"\n",
    "    df = DF.copy()\n",
    "    df[\"daily_ret\"] = DF[\"Adj Close\"].pct_change()\n",
    "    vol = df[\"daily_ret\"].std() * np.sqrt(252)\n",
    "    return vol\n",
    "\n",
    "\n",
    "for ticker in ohlcv_data:\n",
    "    print(\"vol for {} = {}\".format(ticker, volatility(ohlcv_data[ticker])))\n"
   ]
  },
  {
   "attachments": {},
   "cell_type": "markdown",
   "metadata": {},
   "source": [
    "# SHARPE AND SORTINO RATIO\n"
   ]
  },
  {
   "cell_type": "code",
   "execution_count": 3,
   "metadata": {},
   "outputs": [
    {
     "name": "stdout",
     "output_type": "stream",
     "text": [
      "[*********************100%***********************]  1 of 1 completed\n",
      "[*********************100%***********************]  1 of 1 completed\n",
      "[*********************100%***********************]  1 of 1 completed\n",
      "Sharpe of AMZN = -0.7928139556696726\n",
      "Sortino of AMZN = -1.3207677057364113\n",
      "Sharpe of GOOG = -0.11597406937422615\n",
      "Sortino of GOOG = -0.17725061183931956\n",
      "Sharpe of MSFT = 0.5515380308886367\n",
      "Sortino of MSFT = 0.8848276193510526\n"
     ]
    }
   ],
   "source": [
    "import pandas as pd\n",
    "# Download historical data for required stocks\n",
    "tickers = [\"AMZN\", \"GOOG\", \"MSFT\"]\n",
    "ohlcv_data = {}\n",
    "\n",
    "# looping over tickers and storing OHLCV dataframe in dictionary\n",
    "for ticker in tickers:\n",
    "    temp = yf.download(ticker, period='7mo', interval='1d')\n",
    "    temp.dropna(how=\"any\", inplace=True)\n",
    "    ohlcv_data[ticker] = temp\n",
    "\n",
    "\n",
    "def CAGR(DF):\n",
    "    \"function to calculate the Cumulative Annual Growth Rate of a trading strategy\"\n",
    "    df = DF.copy()\n",
    "    df[\"return\"] = DF[\"Adj Close\"].pct_change()\n",
    "    df[\"cum_return\"] = (1 + df[\"return\"]).cumprod()\n",
    "    n = len(df)/252\n",
    "    CAGR = (df[\"cum_return\"][-1])**(1/n) - 1\n",
    "    return CAGR\n",
    "\n",
    "\n",
    "def volatility(DF):\n",
    "    \"function to calculate annualized volatility of a trading strategy\"\n",
    "    df = DF.copy()\n",
    "    df[\"return\"] = df[\"Adj Close\"].pct_change()\n",
    "    vol = df[\"return\"].std() * np.sqrt(252)\n",
    "    return vol\n",
    "\n",
    "\n",
    "def sharpe(DF, rf):\n",
    "    \"function to calculate Sharpe Ratio of a trading strategy\"\n",
    "    df = DF.copy()\n",
    "    return (CAGR(df) - rf)/volatility(df)\n",
    "\n",
    "\n",
    "def sortino(DF, rf):\n",
    "    \"function to calculate Sortino Ratio of a trading strategy\"\n",
    "    df = DF.copy()\n",
    "    df[\"return\"] = df[\"Adj Close\"].pct_change()\n",
    "    neg_return = np.where(df[\"return\"] > 0, 0, df[\"return\"])\n",
    "    neg_vol = pd.Series(neg_return[neg_return != 0]).std() * np.sqrt(252)\n",
    "    return (CAGR(df) - rf)/neg_vol\n",
    "\n",
    "\n",
    "for ticker in ohlcv_data:\n",
    "    print(\"Sharpe of {} = {}\".format(ticker, sharpe(ohlcv_data[ticker], 0.03)))\n",
    "    print(\"Sortino of {} = {}\".format(\n",
    "        ticker, sortino(ohlcv_data[ticker], 0.03)))\n"
   ]
  },
  {
   "attachments": {},
   "cell_type": "markdown",
   "metadata": {},
   "source": [
    "# Maximum Drawdown & Calmar Ratio\n"
   ]
  },
  {
   "cell_type": "code",
   "execution_count": 4,
   "metadata": {},
   "outputs": [
    {
     "name": "stdout",
     "output_type": "stream",
     "text": [
      "[*********************100%***********************]  1 of 1 completed\n",
      "[*********************100%***********************]  1 of 1 completed\n",
      "[*********************100%***********************]  1 of 1 completed\n",
      "max drawdown of AMZN = 0.4003664234169239\n",
      "calmar ratio of AMZN = -0.7956688149763091\n",
      "max drawdown of GOOG = 0.2536873530530025\n",
      "calmar ratio of GOOG = -0.06317374429607005\n",
      "max drawdown of MSFT = 0.1965122330321846\n",
      "calmar ratio of MSFT = 1.1306096539471902\n"
     ]
    }
   ],
   "source": [
    "import yfinance as yf\n",
    "\n",
    "# Download historical data for required stocks\n",
    "tickers = [\"AMZN\", \"GOOG\", \"MSFT\"]\n",
    "ohlcv_data = {}\n",
    "\n",
    "# looping over tickers and storing OHLCV dataframe in dictionary\n",
    "for ticker in tickers:\n",
    "    temp = yf.download(ticker, period='7mo', interval='1d')\n",
    "    temp.dropna(how=\"any\", inplace=True)\n",
    "    ohlcv_data[ticker] = temp\n",
    "\n",
    "\n",
    "def CAGR(DF):\n",
    "    \"function to calculate the Cumulative Annual Growth Rate of a trading strategy\"\n",
    "    df = DF.copy()\n",
    "    df[\"return\"] = DF[\"Adj Close\"].pct_change()\n",
    "    df[\"cum_return\"] = (1 + df[\"return\"]).cumprod()\n",
    "    n = len(df)/252\n",
    "    CAGR = (df[\"cum_return\"][-1])**(1/n) - 1\n",
    "    return CAGR\n",
    "\n",
    "\n",
    "def max_dd(DF):\n",
    "    \"function to calculate max drawdown\"\n",
    "    df = DF.copy()\n",
    "    df[\"return\"] = df[\"Adj Close\"].pct_change()\n",
    "    df[\"cum_return\"] = (1+df[\"return\"]).cumprod()\n",
    "    df[\"cum_roll_max\"] = df[\"cum_return\"].cummax()\n",
    "    df[\"drawdown\"] = df[\"cum_roll_max\"] - df[\"cum_return\"]\n",
    "    return (df[\"drawdown\"]/df[\"cum_roll_max\"]).max()\n",
    "\n",
    "\n",
    "def calmar(DF):\n",
    "    \"function to calculate calmar ratio\"\n",
    "    df = DF.copy()\n",
    "    return CAGR(df)/max_dd(df)\n",
    "\n",
    "\n",
    "for ticker in ohlcv_data:\n",
    "    print(\"max drawdown of {} = {}\".format(ticker, max_dd(ohlcv_data[ticker])))\n",
    "    print(\"calmar ratio of {} = {}\".format(ticker, calmar(ohlcv_data[ticker])))\n"
   ]
  },
  {
   "cell_type": "code",
   "execution_count": null,
   "metadata": {},
   "outputs": [],
   "source": []
  }
 ],
 "metadata": {
  "kernelspec": {
   "display_name": "base",
   "language": "python",
   "name": "python3"
  },
  "language_info": {
   "codemirror_mode": {
    "name": "ipython",
    "version": 3
   },
   "file_extension": ".py",
   "mimetype": "text/x-python",
   "name": "python",
   "nbconvert_exporter": "python",
   "pygments_lexer": "ipython3",
   "version": "3.9.16"
  },
  "orig_nbformat": 4,
  "vscode": {
   "interpreter": {
    "hash": "cd78fef2128015050713e82ca51c6520b11aee7c9ee8df750520bbbc7384cbaa"
   }
  }
 },
 "nbformat": 4,
 "nbformat_minor": 2
}
