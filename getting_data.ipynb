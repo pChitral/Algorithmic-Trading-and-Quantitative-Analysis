{
 "cells": [
  {
   "attachments": {},
   "cell_type": "markdown",
   "metadata": {},
   "source": [
    "How to download OHLCV data from yfinance"
   ]
  },
  {
   "cell_type": "code",
   "execution_count": 40,
   "metadata": {},
   "outputs": [
    {
     "name": "stdout",
     "output_type": "stream",
     "text": [
      "[*********************100%***********************]  1 of 1 completed\n",
      "[*********************100%***********************]  1 of 1 completed\n",
      "[*********************100%***********************]  1 of 1 completed\n"
     ]
    }
   ],
   "source": [
    "import yfinance as yf\n",
    "\n",
    "# get ohlcv data for any ticker by period.\n",
    "data_1mo_5min = yf.download(\"MSFT\", period='1mo', interval=\"5m\")\n",
    "\n",
    "# get ohlcv data for any ticker by start date and end date\n",
    "data_date_range = yf.download(\"MSFT\", start=\"2017-01-01\", end=\"2020-04-24\")\n",
    "\n",
    "# get intraday data for any ticker by period.\n",
    "data_1mo_1d = yf.download(\"MSFT\", period='1mo', interval=\"1d\")"
   ]
  },
  {
   "cell_type": "code",
   "execution_count": 41,
   "metadata": {},
   "outputs": [
    {
     "data": {
      "text/plain": [
       "pandas.core.frame.DataFrame"
      ]
     },
     "execution_count": 41,
     "metadata": {},
     "output_type": "execute_result"
    }
   ],
   "source": [
    "type(data_1mo_5min)"
   ]
  },
  {
   "attachments": {},
   "cell_type": "markdown",
   "metadata": {},
   "source": [
    "Getting data for multiple tickers\n"
   ]
  },
  {
   "cell_type": "code",
   "execution_count": 42,
   "metadata": {},
   "outputs": [
    {
     "name": "stdout",
     "output_type": "stream",
     "text": [
      "[*********************100%***********************]  1 of 1 completed\n",
      "[*********************100%***********************]  1 of 1 completed\n",
      "[*********************100%***********************]  1 of 1 completed\n",
      "[*********************100%***********************]  1 of 1 completed\n",
      "[*********************100%***********************]  1 of 1 completed\n",
      "[*********************100%***********************]  1 of 1 completed\n",
      "[*********************100%***********************]  1 of 1 completed\n",
      "[*********************100%***********************]  1 of 1 completed\n",
      "[*********************100%***********************]  1 of 1 completed\n",
      "[*********************100%***********************]  1 of 1 completed\n",
      "[*********************100%***********************]  1 of 1 completed\n",
      "[*********************100%***********************]  1 of 1 completed\n"
     ]
    }
   ],
   "source": [
    "import datetime as dt\n",
    "import yfinance as yf\n",
    "import pandas as pd\n",
    "\n",
    "stocks = [\"AMZN\",\"MSFT\",\"INTC\",\"GOOG\",\"INFY.NS\",\"3988.HK\"]\n",
    "\n",
    "start = dt.datetime.today()-dt.timedelta(360)\n",
    "end = dt.datetime.today()\n",
    "\n",
    "cl_price = pd.DataFrame() # empty dataframe which will be filled with closing prices of each stock\n",
    "\n",
    "ohlcv_data = {} # empty dictionary which will be filled with ohlcv dataframe for each ticker\n",
    "\n",
    "# looping over tickers and creating a dataframe with close prices\n",
    "for ticker in stocks:\n",
    "    cl_price[ticker] = yf.download(ticker,start,end)[\"Adj Close\"]\n",
    "    \n",
    "\n",
    "# looping over tickers and storing OHLCV dataframe in dictionary\n",
    "for ticker in stocks:\n",
    "    ohlcv_data[ticker] = yf.download(ticker,start,end)\n"
   ]
  },
  {
   "cell_type": "code",
   "execution_count": 43,
   "metadata": {},
   "outputs": [
    {
     "data": {
      "text/plain": [
       "Date\n",
       "2021-12-28            NaN\n",
       "2021-12-29    1845.620483\n",
       "2021-12-30    1852.765869\n",
       "2021-12-31    1847.773926\n",
       "2022-01-03    1858.247192\n",
       "Name: INFY.NS, dtype: float64"
      ]
     },
     "execution_count": 43,
     "metadata": {},
     "output_type": "execute_result"
    }
   ],
   "source": [
    "cl_price[\"INFY.NS\"].head()"
   ]
  },
  {
   "cell_type": "code",
   "execution_count": 44,
   "metadata": {},
   "outputs": [
    {
     "data": {
      "text/plain": [
       "dict_keys(['AMZN', 'MSFT', 'INTC', 'GOOG', 'INFY.NS', '3988.HK'])"
      ]
     },
     "execution_count": 44,
     "metadata": {},
     "output_type": "execute_result"
    }
   ],
   "source": [
    "ohlcv_data.keys()"
   ]
  },
  {
   "cell_type": "code",
   "execution_count": 45,
   "metadata": {},
   "outputs": [
    {
     "data": {
      "text/html": [
       "<div>\n",
       "<style scoped>\n",
       "    .dataframe tbody tr th:only-of-type {\n",
       "        vertical-align: middle;\n",
       "    }\n",
       "\n",
       "    .dataframe tbody tr th {\n",
       "        vertical-align: top;\n",
       "    }\n",
       "\n",
       "    .dataframe thead th {\n",
       "        text-align: right;\n",
       "    }\n",
       "</style>\n",
       "<table border=\"1\" class=\"dataframe\">\n",
       "  <thead>\n",
       "    <tr style=\"text-align: right;\">\n",
       "      <th></th>\n",
       "      <th>Open</th>\n",
       "      <th>High</th>\n",
       "      <th>Low</th>\n",
       "      <th>Close</th>\n",
       "      <th>Adj Close</th>\n",
       "      <th>Volume</th>\n",
       "    </tr>\n",
       "    <tr>\n",
       "      <th>Date</th>\n",
       "      <th></th>\n",
       "      <th></th>\n",
       "      <th></th>\n",
       "      <th></th>\n",
       "      <th></th>\n",
       "      <th></th>\n",
       "    </tr>\n",
       "  </thead>\n",
       "  <tbody>\n",
       "    <tr>\n",
       "      <th>2021-12-29</th>\n",
       "      <td>1883.500000</td>\n",
       "      <td>1893.800049</td>\n",
       "      <td>1876.400024</td>\n",
       "      <td>1885.550049</td>\n",
       "      <td>1845.620483</td>\n",
       "      <td>3236635</td>\n",
       "    </tr>\n",
       "    <tr>\n",
       "      <th>2021-12-30</th>\n",
       "      <td>1884.500000</td>\n",
       "      <td>1909.800049</td>\n",
       "      <td>1874.349976</td>\n",
       "      <td>1892.849976</td>\n",
       "      <td>1852.765869</td>\n",
       "      <td>4584738</td>\n",
       "    </tr>\n",
       "    <tr>\n",
       "      <th>2021-12-31</th>\n",
       "      <td>1890.000000</td>\n",
       "      <td>1898.349976</td>\n",
       "      <td>1871.650024</td>\n",
       "      <td>1887.750000</td>\n",
       "      <td>1847.773926</td>\n",
       "      <td>4619420</td>\n",
       "    </tr>\n",
       "    <tr>\n",
       "      <th>2022-01-03</th>\n",
       "      <td>1887.750000</td>\n",
       "      <td>1914.050049</td>\n",
       "      <td>1887.750000</td>\n",
       "      <td>1898.449951</td>\n",
       "      <td>1858.247314</td>\n",
       "      <td>3329616</td>\n",
       "    </tr>\n",
       "    <tr>\n",
       "      <th>2022-01-04</th>\n",
       "      <td>1898.449951</td>\n",
       "      <td>1906.650024</td>\n",
       "      <td>1878.000000</td>\n",
       "      <td>1899.150024</td>\n",
       "      <td>1858.932495</td>\n",
       "      <td>3921999</td>\n",
       "    </tr>\n",
       "    <tr>\n",
       "      <th>...</th>\n",
       "      <td>...</td>\n",
       "      <td>...</td>\n",
       "      <td>...</td>\n",
       "      <td>...</td>\n",
       "      <td>...</td>\n",
       "      <td>...</td>\n",
       "    </tr>\n",
       "    <tr>\n",
       "      <th>2022-12-19</th>\n",
       "      <td>1507.949951</td>\n",
       "      <td>1516.900024</td>\n",
       "      <td>1495.050049</td>\n",
       "      <td>1507.349976</td>\n",
       "      <td>1507.349976</td>\n",
       "      <td>6222740</td>\n",
       "    </tr>\n",
       "    <tr>\n",
       "      <th>2022-12-20</th>\n",
       "      <td>1501.000000</td>\n",
       "      <td>1516.000000</td>\n",
       "      <td>1482.449951</td>\n",
       "      <td>1507.300049</td>\n",
       "      <td>1507.300049</td>\n",
       "      <td>7396259</td>\n",
       "    </tr>\n",
       "    <tr>\n",
       "      <th>2022-12-21</th>\n",
       "      <td>1515.000000</td>\n",
       "      <td>1521.000000</td>\n",
       "      <td>1502.349976</td>\n",
       "      <td>1509.550049</td>\n",
       "      <td>1509.550049</td>\n",
       "      <td>6236361</td>\n",
       "    </tr>\n",
       "    <tr>\n",
       "      <th>2022-12-22</th>\n",
       "      <td>1521.500000</td>\n",
       "      <td>1529.949951</td>\n",
       "      <td>1511.750000</td>\n",
       "      <td>1522.050049</td>\n",
       "      <td>1522.050049</td>\n",
       "      <td>6302640</td>\n",
       "    </tr>\n",
       "    <tr>\n",
       "      <th>2022-12-23</th>\n",
       "      <td>1508.699951</td>\n",
       "      <td>1509.900024</td>\n",
       "      <td>1493.000000</td>\n",
       "      <td>1497.099976</td>\n",
       "      <td>1497.099976</td>\n",
       "      <td>6282513</td>\n",
       "    </tr>\n",
       "  </tbody>\n",
       "</table>\n",
       "<p>246 rows × 6 columns</p>\n",
       "</div>"
      ],
      "text/plain": [
       "                   Open         High          Low        Close    Adj Close  \\\n",
       "Date                                                                          \n",
       "2021-12-29  1883.500000  1893.800049  1876.400024  1885.550049  1845.620483   \n",
       "2021-12-30  1884.500000  1909.800049  1874.349976  1892.849976  1852.765869   \n",
       "2021-12-31  1890.000000  1898.349976  1871.650024  1887.750000  1847.773926   \n",
       "2022-01-03  1887.750000  1914.050049  1887.750000  1898.449951  1858.247314   \n",
       "2022-01-04  1898.449951  1906.650024  1878.000000  1899.150024  1858.932495   \n",
       "...                 ...          ...          ...          ...          ...   \n",
       "2022-12-19  1507.949951  1516.900024  1495.050049  1507.349976  1507.349976   \n",
       "2022-12-20  1501.000000  1516.000000  1482.449951  1507.300049  1507.300049   \n",
       "2022-12-21  1515.000000  1521.000000  1502.349976  1509.550049  1509.550049   \n",
       "2022-12-22  1521.500000  1529.949951  1511.750000  1522.050049  1522.050049   \n",
       "2022-12-23  1508.699951  1509.900024  1493.000000  1497.099976  1497.099976   \n",
       "\n",
       "             Volume  \n",
       "Date                 \n",
       "2021-12-29  3236635  \n",
       "2021-12-30  4584738  \n",
       "2021-12-31  4619420  \n",
       "2022-01-03  3329616  \n",
       "2022-01-04  3921999  \n",
       "...             ...  \n",
       "2022-12-19  6222740  \n",
       "2022-12-20  7396259  \n",
       "2022-12-21  6236361  \n",
       "2022-12-22  6302640  \n",
       "2022-12-23  6282513  \n",
       "\n",
       "[246 rows x 6 columns]"
      ]
     },
     "execution_count": 45,
     "metadata": {},
     "output_type": "execute_result"
    }
   ],
   "source": [
    "ohlcv_data[\"INFY.NS\"]"
   ]
  },
  {
   "attachments": {},
   "cell_type": "markdown",
   "metadata": {},
   "source": [
    "Getting data via different package `yahoofinancials`"
   ]
  },
  {
   "cell_type": "code",
   "execution_count": 46,
   "metadata": {},
   "outputs": [],
   "source": [
    "from yahoofinancials import YahooFinancials\n",
    "\n",
    "ticker = 'MSFT'\n",
    "yahoo_financials = YahooFinancials(ticker)\n",
    "data = yahoo_financials.get_historical_price_data(\"2018-04-24\", \"2020-04-24\", \"daily\")\n"
   ]
  },
  {
   "cell_type": "code",
   "execution_count": 47,
   "metadata": {},
   "outputs": [
    {
     "data": {
      "text/plain": [
       "dict_keys(['MSFT'])"
      ]
     },
     "execution_count": 47,
     "metadata": {},
     "output_type": "execute_result"
    }
   ],
   "source": [
    "data.keys()"
   ]
  },
  {
   "cell_type": "code",
   "execution_count": 48,
   "metadata": {},
   "outputs": [
    {
     "data": {
      "text/plain": [
       "[{'date': 1524576600,\n",
       "  'high': 96.47000122070312,\n",
       "  'low': 92.41000366210938,\n",
       "  'open': 96.23999786376953,\n",
       "  'close': 93.12000274658203,\n",
       "  'volume': 34524800,\n",
       "  'adjclose': 88.10441589355469,\n",
       "  'formatted_date': '2018-04-24'},\n",
       " {'date': 1524663000,\n",
       "  'high': 93.30000305175781,\n",
       "  'low': 90.27999877929688,\n",
       "  'open': 93.30000305175781,\n",
       "  'close': 92.30999755859375,\n",
       "  'volume': 33729300,\n",
       "  'adjclose': 87.33805847167969,\n",
       "  'formatted_date': '2018-04-25'}]"
      ]
     },
     "execution_count": 48,
     "metadata": {},
     "output_type": "execute_result"
    }
   ],
   "source": [
    "(data[\"MSFT\"][\"prices\"])[:2]"
   ]
  },
  {
   "attachments": {},
   "cell_type": "markdown",
   "metadata": {},
   "source": [
    "`yahoo_financials` give data in the form of json unlike yfiance which gives us the data in the form of a dataframe"
   ]
  },
  {
   "cell_type": "code",
   "execution_count": 49,
   "metadata": {},
   "outputs": [],
   "source": [
    "import pandas as pd\n",
    "from yahoofinancials import YahooFinancials\n",
    "import datetime as dt\n",
    "\n",
    "all_tickers = [\"AAPL\",\"MSFT\",\"CSCO\",\"AMZN\",\"INTC\"]\n",
    "\n",
    "# extracting stock data (historical close price) for the stocks identified\n",
    "close_prices = pd.DataFrame()\n",
    "end_date = (dt.date.today()).strftime('%Y-%m-%d')\n",
    "beg_date = (dt.date.today()-dt.timedelta(1825)).strftime('%Y-%m-%d')\n",
    "for ticker in all_tickers:\n",
    "    yahoo_financials = YahooFinancials(ticker)\n",
    "    json_obj = yahoo_financials.get_historical_price_data(beg_date,end_date,\"daily\")\n",
    "    ohlv = json_obj[ticker]['prices']\n",
    "    temp = pd.DataFrame(ohlv)[[\"formatted_date\",\"adjclose\"]]\n",
    "    temp.set_index(\"formatted_date\",inplace=True)\n",
    "    temp.dropna(inplace=True)\n",
    "    close_prices[ticker] = temp[\"adjclose\"]\n",
    "    \n",
    "    \n",
    "# extracting stock data (ohlcv) for the stocks identified\n",
    "ohlv_dict = {}\n",
    "end_date = (dt.date.today()).strftime('%Y-%m-%d')\n",
    "beg_date = (dt.date.today()-dt.timedelta(1825)).strftime('%Y-%m-%d')\n",
    "for ticker in all_tickers:\n",
    "    yahoo_financials = YahooFinancials(ticker)\n",
    "    json_obj = yahoo_financials.get_historical_price_data(beg_date,end_date,\"daily\")\n",
    "    ohlv = json_obj[ticker]['prices']\n",
    "    temp = pd.DataFrame(ohlv)[[\"formatted_date\",\"adjclose\",\"open\",\"low\",\"high\",\"volume\"]]\n",
    "    temp.set_index(\"formatted_date\",inplace=True)\n",
    "    temp.dropna(inplace=True)\n",
    "    ohlv_dict[ticker] = temp"
   ]
  },
  {
   "cell_type": "code",
   "execution_count": 51,
   "metadata": {},
   "outputs": [
    {
     "data": {
      "text/plain": [
       "dict_keys(['AAPL', 'MSFT', 'CSCO', 'AMZN', 'INTC'])"
      ]
     },
     "execution_count": 51,
     "metadata": {},
     "output_type": "execute_result"
    }
   ],
   "source": [
    "ohlv_dict.keys()"
   ]
  },
  {
   "cell_type": "code",
   "execution_count": 52,
   "metadata": {},
   "outputs": [
    {
     "data": {
      "text/html": [
       "<div>\n",
       "<style scoped>\n",
       "    .dataframe tbody tr th:only-of-type {\n",
       "        vertical-align: middle;\n",
       "    }\n",
       "\n",
       "    .dataframe tbody tr th {\n",
       "        vertical-align: top;\n",
       "    }\n",
       "\n",
       "    .dataframe thead th {\n",
       "        text-align: right;\n",
       "    }\n",
       "</style>\n",
       "<table border=\"1\" class=\"dataframe\">\n",
       "  <thead>\n",
       "    <tr style=\"text-align: right;\">\n",
       "      <th></th>\n",
       "      <th>adjclose</th>\n",
       "      <th>open</th>\n",
       "      <th>low</th>\n",
       "      <th>high</th>\n",
       "      <th>volume</th>\n",
       "    </tr>\n",
       "    <tr>\n",
       "      <th>formatted_date</th>\n",
       "      <th></th>\n",
       "      <th></th>\n",
       "      <th></th>\n",
       "      <th></th>\n",
       "      <th></th>\n",
       "    </tr>\n",
       "  </thead>\n",
       "  <tbody>\n",
       "    <tr>\n",
       "      <th>2017-12-26</th>\n",
       "      <td>58.838001</td>\n",
       "      <td>58.417999</td>\n",
       "      <td>58.027500</td>\n",
       "      <td>58.916000</td>\n",
       "      <td>40104000</td>\n",
       "    </tr>\n",
       "    <tr>\n",
       "      <th>2017-12-27</th>\n",
       "      <td>59.112999</td>\n",
       "      <td>58.995499</td>\n",
       "      <td>58.780499</td>\n",
       "      <td>59.364498</td>\n",
       "      <td>37344000</td>\n",
       "    </tr>\n",
       "    <tr>\n",
       "      <th>2017-12-28</th>\n",
       "      <td>59.305000</td>\n",
       "      <td>59.450001</td>\n",
       "      <td>59.219002</td>\n",
       "      <td>59.505001</td>\n",
       "      <td>36834000</td>\n",
       "    </tr>\n",
       "    <tr>\n",
       "      <th>2017-12-29</th>\n",
       "      <td>58.473499</td>\n",
       "      <td>59.117500</td>\n",
       "      <td>58.375000</td>\n",
       "      <td>59.200001</td>\n",
       "      <td>53768000</td>\n",
       "    </tr>\n",
       "    <tr>\n",
       "      <th>2018-01-02</th>\n",
       "      <td>59.450500</td>\n",
       "      <td>58.599998</td>\n",
       "      <td>58.525501</td>\n",
       "      <td>59.500000</td>\n",
       "      <td>53890000</td>\n",
       "    </tr>\n",
       "    <tr>\n",
       "      <th>...</th>\n",
       "      <td>...</td>\n",
       "      <td>...</td>\n",
       "      <td>...</td>\n",
       "      <td>...</td>\n",
       "      <td>...</td>\n",
       "    </tr>\n",
       "    <tr>\n",
       "      <th>2022-12-16</th>\n",
       "      <td>87.860001</td>\n",
       "      <td>88.269997</td>\n",
       "      <td>86.730003</td>\n",
       "      <td>89.349998</td>\n",
       "      <td>146044000</td>\n",
       "    </tr>\n",
       "    <tr>\n",
       "      <th>2022-12-19</th>\n",
       "      <td>84.919998</td>\n",
       "      <td>87.510002</td>\n",
       "      <td>84.510002</td>\n",
       "      <td>87.629997</td>\n",
       "      <td>83531500</td>\n",
       "    </tr>\n",
       "    <tr>\n",
       "      <th>2022-12-20</th>\n",
       "      <td>85.190002</td>\n",
       "      <td>85.330002</td>\n",
       "      <td>84.330002</td>\n",
       "      <td>86.610001</td>\n",
       "      <td>74348300</td>\n",
       "    </tr>\n",
       "    <tr>\n",
       "      <th>2022-12-21</th>\n",
       "      <td>86.769997</td>\n",
       "      <td>86.180000</td>\n",
       "      <td>85.209999</td>\n",
       "      <td>87.230003</td>\n",
       "      <td>59267200</td>\n",
       "    </tr>\n",
       "    <tr>\n",
       "      <th>2022-12-22</th>\n",
       "      <td>83.790001</td>\n",
       "      <td>85.519997</td>\n",
       "      <td>82.250000</td>\n",
       "      <td>85.680000</td>\n",
       "      <td>81431300</td>\n",
       "    </tr>\n",
       "  </tbody>\n",
       "</table>\n",
       "<p>1258 rows × 5 columns</p>\n",
       "</div>"
      ],
      "text/plain": [
       "                 adjclose       open        low       high     volume\n",
       "formatted_date                                                       \n",
       "2017-12-26      58.838001  58.417999  58.027500  58.916000   40104000\n",
       "2017-12-27      59.112999  58.995499  58.780499  59.364498   37344000\n",
       "2017-12-28      59.305000  59.450001  59.219002  59.505001   36834000\n",
       "2017-12-29      58.473499  59.117500  58.375000  59.200001   53768000\n",
       "2018-01-02      59.450500  58.599998  58.525501  59.500000   53890000\n",
       "...                   ...        ...        ...        ...        ...\n",
       "2022-12-16      87.860001  88.269997  86.730003  89.349998  146044000\n",
       "2022-12-19      84.919998  87.510002  84.510002  87.629997   83531500\n",
       "2022-12-20      85.190002  85.330002  84.330002  86.610001   74348300\n",
       "2022-12-21      86.769997  86.180000  85.209999  87.230003   59267200\n",
       "2022-12-22      83.790001  85.519997  82.250000  85.680000   81431300\n",
       "\n",
       "[1258 rows x 5 columns]"
      ]
     },
     "execution_count": 52,
     "metadata": {},
     "output_type": "execute_result"
    }
   ],
   "source": [
    "ohlv_dict[\"AMZN\"]"
   ]
  },
  {
   "cell_type": "code",
   "execution_count": null,
   "metadata": {},
   "outputs": [],
   "source": []
  }
 ],
 "metadata": {
  "kernelspec": {
   "display_name": "base",
   "language": "python",
   "name": "python3"
  },
  "language_info": {
   "codemirror_mode": {
    "name": "ipython",
    "version": 3
   },
   "file_extension": ".py",
   "mimetype": "text/x-python",
   "name": "python",
   "nbconvert_exporter": "python",
   "pygments_lexer": "ipython3",
   "version": "3.9.12"
  },
  "orig_nbformat": 4,
  "vscode": {
   "interpreter": {
    "hash": "cd78fef2128015050713e82ca51c6520b11aee7c9ee8df750520bbbc7384cbaa"
   }
  }
 },
 "nbformat": 4,
 "nbformat_minor": 2
}
