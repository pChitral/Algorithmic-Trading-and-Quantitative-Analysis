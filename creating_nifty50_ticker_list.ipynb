{
 "cells": [
  {
   "cell_type": "code",
   "execution_count": 18,
   "metadata": {},
   "outputs": [],
   "source": [
    "import requests\n",
    "from bs4 import BeautifulSoup\n",
    "import pandas as pd\n",
    "\n",
    "# Make a GET request to the Wikipedia page\n",
    "url = 'https://en.wikipedia.org/wiki/NIFTY_50'\n",
    "response = requests.get(url)\n",
    "\n",
    "# Parse the HTML content using BeautifulSoup\n",
    "soup = BeautifulSoup(response.content, 'html.parser')\n",
    "\n",
    "# Find the table with class \"wikitable sortable\" and id \"constituents\"\n",
    "table = soup.find('table', {'class': 'wikitable sortable', 'id': 'constituents'})\n",
    "\n",
    "# Create a list to store the table data\n",
    "data = []\n",
    "\n",
    "# Find all rows in the table\n",
    "rows = table.find_all('tr')\n",
    "\n",
    "# Loop through the rows and extract the data\n",
    "for row in rows:\n",
    "    cols = row.find_all('td')\n",
    "    cols = [col.text.strip() for col in cols]\n",
    "    data.append(cols)\n",
    "\n"
   ]
  },
  {
   "cell_type": "code",
   "execution_count": 30,
   "metadata": {},
   "outputs": [
    {
     "data": {
      "text/html": [
       "<div>\n",
       "<style scoped>\n",
       "    .dataframe tbody tr th:only-of-type {\n",
       "        vertical-align: middle;\n",
       "    }\n",
       "\n",
       "    .dataframe tbody tr th {\n",
       "        vertical-align: top;\n",
       "    }\n",
       "\n",
       "    .dataframe thead th {\n",
       "        text-align: right;\n",
       "    }\n",
       "</style>\n",
       "<table border=\"1\" class=\"dataframe\">\n",
       "  <thead>\n",
       "    <tr style=\"text-align: right;\">\n",
       "      <th></th>\n",
       "      <th>Company Name</th>\n",
       "      <th>Symbol</th>\n",
       "      <th>Sector</th>\n",
       "    </tr>\n",
       "  </thead>\n",
       "  <tbody>\n",
       "    <tr>\n",
       "      <th>1</th>\n",
       "      <td>Adani Enterprises</td>\n",
       "      <td>ADANIENT.NS</td>\n",
       "      <td>Diversified</td>\n",
       "    </tr>\n",
       "    <tr>\n",
       "      <th>2</th>\n",
       "      <td>Adani Ports &amp; SEZ</td>\n",
       "      <td>ADANIPORTS.NS</td>\n",
       "      <td>Infrastructure</td>\n",
       "    </tr>\n",
       "    <tr>\n",
       "      <th>3</th>\n",
       "      <td>Apollo Hospitals</td>\n",
       "      <td>APOLLOHOSP.NS</td>\n",
       "      <td>Healthcare</td>\n",
       "    </tr>\n",
       "    <tr>\n",
       "      <th>4</th>\n",
       "      <td>Asian Paints</td>\n",
       "      <td>ASIANPAINT.NS</td>\n",
       "      <td>Consumer Durables</td>\n",
       "    </tr>\n",
       "    <tr>\n",
       "      <th>5</th>\n",
       "      <td>Axis Bank</td>\n",
       "      <td>AXISBANK.NS</td>\n",
       "      <td>Banking</td>\n",
       "    </tr>\n",
       "  </tbody>\n",
       "</table>\n",
       "</div>"
      ],
      "text/plain": [
       "        Company Name         Symbol             Sector\n",
       "1  Adani Enterprises    ADANIENT.NS        Diversified\n",
       "2  Adani Ports & SEZ  ADANIPORTS.NS     Infrastructure\n",
       "3   Apollo Hospitals  APOLLOHOSP.NS         Healthcare\n",
       "4       Asian Paints  ASIANPAINT.NS  Consumer Durables\n",
       "5          Axis Bank    AXISBANK.NS            Banking"
      ]
     },
     "execution_count": 30,
     "metadata": {},
     "output_type": "execute_result"
    }
   ],
   "source": [
    "# Create a pandas DataFrame from the table data\n",
    "df = pd.DataFrame(data, columns=['Company Name', 'Symbol', 'Sector'])\n",
    "df.dropna(inplace=True)\n",
    "# Print the DataFrame\n",
    "df['Symbol'] = df['Symbol'] +\".NS\"\n",
    "df.head()\n"
   ]
  },
  {
   "cell_type": "code",
   "execution_count": 31,
   "metadata": {},
   "outputs": [
    {
     "name": "stdout",
     "output_type": "stream",
     "text": [
      "Exporting the csv for 11/04/2023_20:18:28 date and time\n"
     ]
    }
   ],
   "source": [
    "from datetime import datetime\n",
    "\n",
    "# datetime object containing current date and time\n",
    "now = datetime.now()\n",
    "# dd/mm/YY H:M:S\n",
    "dt_string = now.strftime(\"%d/%m/%Y_%H:%M:%S\")\n",
    "print(f\"Exporting the csv for {dt_string} date and time\")\n",
    "\n",
    "df.to_csv(\n",
    "    f\"\"\"nifty50_tickers.csv\"\"\", index=False)"
   ]
  },
  {
   "cell_type": "code",
   "execution_count": 27,
   "metadata": {},
   "outputs": [
    {
     "name": "stdout",
     "output_type": "stream",
     "text": [
      "Exporting the csv for 11/04/2023_20:15:30 date and time\n"
     ]
    }
   ],
   "source": [
    "now = datetime.now()\n",
    "# dd/mm/YY H:M:S\n",
    "dt_string = now.strftime(\"%d/%m/%Y_%H:%M:%S\")\n",
    "print(f\"Exporting the csv for {dt_string} date and time\")"
   ]
  },
  {
   "cell_type": "code",
   "execution_count": null,
   "metadata": {},
   "outputs": [],
   "source": []
  }
 ],
 "metadata": {
  "kernelspec": {
   "display_name": "base",
   "language": "python",
   "name": "python3"
  },
  "language_info": {
   "codemirror_mode": {
    "name": "ipython",
    "version": 3
   },
   "file_extension": ".py",
   "mimetype": "text/x-python",
   "name": "python",
   "nbconvert_exporter": "python",
   "pygments_lexer": "ipython3",
   "version": "3.9.16"
  },
  "orig_nbformat": 4
 },
 "nbformat": 4,
 "nbformat_minor": 2
}
