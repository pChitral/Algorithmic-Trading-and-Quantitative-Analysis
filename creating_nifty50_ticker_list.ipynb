{
 "cells": [
  {
   "cell_type": "code",
   "execution_count": 18,
   "metadata": {},
   "outputs": [],
   "source": [
    "import requests\n",
    "from bs4 import BeautifulSoup\n",
    "import pandas as pd\n",
    "\n",
    "# Make a GET request to the Wikipedia page\n",
    "url = 'https://en.wikipedia.org/wiki/NIFTY_50'\n",
    "response = requests.get(url)\n",
    "\n",
    "# Parse the HTML content using BeautifulSoup\n",
    "soup = BeautifulSoup(response.content, 'html.parser')\n",
    "\n",
    "# Find the table with class \"wikitable sortable\" and id \"constituents\"\n",
    "table = soup.find('table', {'class': 'wikitable sortable', 'id': 'constituents'})\n",
    "\n",
    "# Create a list to store the table data\n",
    "data = []\n",
    "\n",
    "# Find all rows in the table\n",
    "rows = table.find_all('tr')\n",
    "\n",
    "# Loop through the rows and extract the data\n",
    "for row in rows:\n",
    "    cols = row.find_all('td')\n",
    "    cols = [col.text.strip() for col in cols]\n",
    "    data.append(cols)\n",
    "\n"
   ]
  },
  {
   "cell_type": "code",
   "execution_count": 30,
   "metadata": {},
   "outputs": [
    {
     "data": {
      "text/html": [
       "<div>\n",
       "<style scoped>\n",
       "    .dataframe tbody tr th:only-of-type {\n",
       "        vertical-align: middle;\n",
       "    }\n",
       "\n",
       "    .dataframe tbody tr th {\n",
       "        vertical-align: top;\n",
       "    }\n",
       "\n",
       "    .dataframe thead th {\n",
       "        text-align: right;\n",
       "    }\n",
       "</style>\n",
       "<table border=\"1\" class=\"dataframe\">\n",
       "  <thead>\n",
       "    <tr style=\"text-align: right;\">\n",
       "      <th></th>\n",
       "      <th>Company Name</th>\n",
       "      <th>Symbol</th>\n",
       "      <th>Sector</th>\n",
       "    </tr>\n",
       "  </thead>\n",
       "  <tbody>\n",
       "    <tr>\n",
       "      <th>1</th>\n",
       "      <td>Adani Enterprises</td>\n",
       "      <td>ADANIENT.NS</td>\n",
       "      <td>Diversified</td>\n",
       "    </tr>\n",
       "    <tr>\n",
       "      <th>2</th>\n",
       "      <td>Adani Ports &amp; SEZ</td>\n",
       "      <td>ADANIPORTS.NS</td>\n",
       "      <td>Infrastructure</td>\n",
       "    </tr>\n",
       "    <tr>\n",
       "      <th>3</th>\n",
       "      <td>Apollo Hospitals</td>\n",
       "      <td>APOLLOHOSP.NS</td>\n",
       "      <td>Healthcare</td>\n",
       "    </tr>\n",
       "    <tr>\n",
       "      <th>4</th>\n",
       "      <td>Asian Paints</td>\n",
       "      <td>ASIANPAINT.NS</td>\n",
       "      <td>Consumer Durables</td>\n",
       "    </tr>\n",
       "    <tr>\n",
       "      <th>5</th>\n",
       "      <td>Axis Bank</td>\n",
       "      <td>AXISBANK.NS</td>\n",
       "      <td>Banking</td>\n",
       "    </tr>\n",
       "  </tbody>\n",
       "</table>\n",
       "</div>"
      ],
      "text/plain": [
       "        Company Name         Symbol             Sector\n",
       "1  Adani Enterprises    ADANIENT.NS        Diversified\n",
       "2  Adani Ports & SEZ  ADANIPORTS.NS     Infrastructure\n",
       "3   Apollo Hospitals  APOLLOHOSP.NS         Healthcare\n",
       "4       Asian Paints  ASIANPAINT.NS  Consumer Durables\n",
       "5          Axis Bank    AXISBANK.NS            Banking"
      ]
     },
     "execution_count": 30,
     "metadata": {},
     "output_type": "execute_result"
    }
   ],
   "source": [
    "# Create a pandas DataFrame from the table data\n",
    "df = pd.DataFrame(data, columns=['Company Name', 'Symbol', 'Sector'])\n",
    "df.dropna(inplace=True)\n",
    "# Print the DataFrame\n",
    "df['Symbol'] = df['Symbol'] +\".NS\"\n",
    "df.head()\n"
   ]
  },
  {
   "cell_type": "code",
   "execution_count": 31,
   "metadata": {},
   "outputs": [
    {
     "name": "stdout",
     "output_type": "stream",
     "text": [
      "Exporting the csv for 11/04/2023_20:18:28 date and time\n"
     ]
    }
   ],
   "source": [
    "from datetime import datetime\n",
    "\n",
    "# datetime object containing current date and time\n",
    "now = datetime.now()\n",
    "# dd/mm/YY H:M:S\n",
    "dt_string = now.strftime(\"%d/%m/%Y_%H:%M:%S\")\n",
    "print(f\"Exporting the csv for {dt_string} date and time\")\n",
    "\n",
    "df.to_csv(\n",
    "    f\"\"\"nifty50_tickers.csv\"\"\", index=False)"
   ]
  },
  {
   "cell_type": "code",
   "execution_count": 27,
   "metadata": {},
   "outputs": [
    {
     "name": "stdout",
     "output_type": "stream",
     "text": [
      "Exporting the csv for 11/04/2023_20:15:30 date and time\n"
     ]
    }
   ],
   "source": [
    "now = datetime.now()\n",
    "# dd/mm/YY H:M:S\n",
    "dt_string = now.strftime(\"%d/%m/%Y_%H:%M:%S\")\n",
    "print(f\"Exporting the csv for {dt_string} date and time\")"
   ]
  },
  {
   "cell_type": "code",
   "execution_count": 34,
   "metadata": {},
   "outputs": [],
   "source": [
    "nifty50_ticker_url = {}\n",
    "for ticker in df['Symbol']:\n",
    "    nifty50_ticker_url[ticker] = (f\"https://finance.yahoo.com/quote/{ticker}?p={ticker}&.tsrc=fin-srch\")\n"
   ]
  },
  {
   "cell_type": "code",
   "execution_count": 39,
   "metadata": {},
   "outputs": [],
   "source": [
    "list_nifty50_ticker_url = list(nifty50_ticker_url.keys())"
   ]
  },
  {
   "cell_type": "code",
   "execution_count": 40,
   "metadata": {},
   "outputs": [
    {
     "data": {
      "text/plain": [
       "['ADANIENT.NS',\n",
       " 'ADANIPORTS.NS',\n",
       " 'APOLLOHOSP.NS',\n",
       " 'ASIANPAINT.NS',\n",
       " 'AXISBANK.NS']"
      ]
     },
     "execution_count": 40,
     "metadata": {},
     "output_type": "execute_result"
    }
   ],
   "source": [
    "list_nifty50_ticker_url[:5]"
   ]
  },
  {
   "cell_type": "code",
   "execution_count": 41,
   "metadata": {},
   "outputs": [],
   "source": [
    "import yfinance as yf"
   ]
  },
  {
   "cell_type": "code",
   "execution_count": 43,
   "metadata": {},
   "outputs": [
    {
     "name": "stdout",
     "output_type": "stream",
     "text": [
      "[*********************100%***********************]  1 of 1 completed\n"
     ]
    },
    {
     "ename": "KeyError",
     "evalue": "'ADANIENT.NS'",
     "output_type": "error",
     "traceback": [
      "\u001b[0;31m---------------------------------------------------------------------------\u001b[0m",
      "\u001b[0;31mKeyError\u001b[0m                                  Traceback (most recent call last)",
      "\u001b[0;32m/var/folders/q4/72ybtynd5sjf5ppl_5vpsw080000gn/T/ipykernel_29464/3193764066.py\u001b[0m in \u001b[0;36m<module>\u001b[0;34m\u001b[0m\n\u001b[1;32m      1\u001b[0m \u001b[0mintraday_data\u001b[0m \u001b[0;34m=\u001b[0m \u001b[0;34m{\u001b[0m\u001b[0;34m}\u001b[0m\u001b[0;34m\u001b[0m\u001b[0;34m\u001b[0m\u001b[0m\n\u001b[1;32m      2\u001b[0m \u001b[0;32mfor\u001b[0m \u001b[0mticker\u001b[0m \u001b[0;32min\u001b[0m \u001b[0mlist_nifty50_ticker_url\u001b[0m\u001b[0;34m:\u001b[0m\u001b[0;34m\u001b[0m\u001b[0;34m\u001b[0m\u001b[0m\n\u001b[0;32m----> 3\u001b[0;31m     \u001b[0mintraday_data\u001b[0m\u001b[0;34m[\u001b[0m\u001b[0mticker\u001b[0m\u001b[0;34m]\u001b[0m \u001b[0;34m=\u001b[0m \u001b[0myf\u001b[0m\u001b[0;34m.\u001b[0m\u001b[0mdownload\u001b[0m\u001b[0;34m(\u001b[0m\u001b[0mticker\u001b[0m\u001b[0;34m,\u001b[0m \u001b[0mperiod\u001b[0m\u001b[0;34m=\u001b[0m\u001b[0;34m'1mo'\u001b[0m\u001b[0;34m,\u001b[0m \u001b[0minterval\u001b[0m\u001b[0;34m=\u001b[0m\u001b[0;34m\"1d\"\u001b[0m\u001b[0;34m)\u001b[0m\u001b[0;34m\u001b[0m\u001b[0;34m\u001b[0m\u001b[0m\n\u001b[0m",
      "\u001b[0;32m/Applications/anaconda3/lib/python3.9/site-packages/yfinance/multi.py\u001b[0m in \u001b[0;36mdownload\u001b[0;34m(tickers, start, end, actions, threads, group_by, auto_adjust, back_adjust, progress, period, show_errors, interval, prepost, proxy, rounding, timeout, **kwargs)\u001b[0m\n\u001b[1;32m    136\u001b[0m     \u001b[0;32mif\u001b[0m \u001b[0mlen\u001b[0m\u001b[0;34m(\u001b[0m\u001b[0mtickers\u001b[0m\u001b[0;34m)\u001b[0m \u001b[0;34m==\u001b[0m \u001b[0;36m1\u001b[0m\u001b[0;34m:\u001b[0m\u001b[0;34m\u001b[0m\u001b[0;34m\u001b[0m\u001b[0m\n\u001b[1;32m    137\u001b[0m         \u001b[0mticker\u001b[0m \u001b[0;34m=\u001b[0m \u001b[0mtickers\u001b[0m\u001b[0;34m[\u001b[0m\u001b[0;36m0\u001b[0m\u001b[0;34m]\u001b[0m\u001b[0;34m\u001b[0m\u001b[0;34m\u001b[0m\u001b[0m\n\u001b[0;32m--> 138\u001b[0;31m         \u001b[0;32mreturn\u001b[0m \u001b[0mshared\u001b[0m\u001b[0;34m.\u001b[0m\u001b[0m_DFS\u001b[0m\u001b[0;34m[\u001b[0m\u001b[0mshared\u001b[0m\u001b[0;34m.\u001b[0m\u001b[0m_ISINS\u001b[0m\u001b[0;34m.\u001b[0m\u001b[0mget\u001b[0m\u001b[0;34m(\u001b[0m\u001b[0mticker\u001b[0m\u001b[0;34m,\u001b[0m \u001b[0mticker\u001b[0m\u001b[0;34m)\u001b[0m\u001b[0;34m]\u001b[0m\u001b[0;34m\u001b[0m\u001b[0;34m\u001b[0m\u001b[0m\n\u001b[0m\u001b[1;32m    139\u001b[0m \u001b[0;34m\u001b[0m\u001b[0m\n\u001b[1;32m    140\u001b[0m     \u001b[0;32mtry\u001b[0m\u001b[0;34m:\u001b[0m\u001b[0;34m\u001b[0m\u001b[0;34m\u001b[0m\u001b[0m\n",
      "\u001b[0;31mKeyError\u001b[0m: 'ADANIENT.NS'"
     ]
    }
   ],
   "source": [
    "intraday_data = {}\n",
    "for ticker in list_nifty50_ticker_url:\n",
    "    intraday_data[ticker] = yf.download(ticker, period='1mo', interval=\"1d\")"
   ]
  },
  {
   "cell_type": "code",
   "execution_count": 44,
   "metadata": {},
   "outputs": [
    {
     "name": "stdout",
     "output_type": "stream",
     "text": [
      "[*********************100%***********************]  1 of 1 completed\n"
     ]
    }
   ],
   "source": [
    "data_1mo_1d = yf.download(\"ADANIENT.NS\", period='1mo', interval=\"1d\")"
   ]
  },
  {
   "cell_type": "code",
   "execution_count": 45,
   "metadata": {},
   "outputs": [
    {
     "data": {
      "text/html": [
       "<div>\n",
       "<style scoped>\n",
       "    .dataframe tbody tr th:only-of-type {\n",
       "        vertical-align: middle;\n",
       "    }\n",
       "\n",
       "    .dataframe tbody tr th {\n",
       "        vertical-align: top;\n",
       "    }\n",
       "\n",
       "    .dataframe thead th {\n",
       "        text-align: right;\n",
       "    }\n",
       "</style>\n",
       "<table border=\"1\" class=\"dataframe\">\n",
       "  <thead>\n",
       "    <tr style=\"text-align: right;\">\n",
       "      <th></th>\n",
       "      <th>Open</th>\n",
       "      <th>High</th>\n",
       "      <th>Low</th>\n",
       "      <th>Close</th>\n",
       "      <th>Adj Close</th>\n",
       "      <th>Volume</th>\n",
       "    </tr>\n",
       "    <tr>\n",
       "      <th>Date</th>\n",
       "      <th></th>\n",
       "      <th></th>\n",
       "      <th></th>\n",
       "      <th></th>\n",
       "      <th></th>\n",
       "      <th></th>\n",
       "    </tr>\n",
       "  </thead>\n",
       "  <tbody>\n",
       "    <tr>\n",
       "      <th>2023-03-13</th>\n",
       "      <td>1917.000000</td>\n",
       "      <td>1985.000000</td>\n",
       "      <td>1857.400024</td>\n",
       "      <td>1874.400024</td>\n",
       "      <td>1874.400024</td>\n",
       "      <td>7572604</td>\n",
       "    </tr>\n",
       "    <tr>\n",
       "      <th>2023-03-14</th>\n",
       "      <td>1874.000000</td>\n",
       "      <td>1874.849976</td>\n",
       "      <td>1651.349976</td>\n",
       "      <td>1738.199951</td>\n",
       "      <td>1738.199951</td>\n",
       "      <td>12679663</td>\n",
       "    </tr>\n",
       "    <tr>\n",
       "      <th>2023-03-15</th>\n",
       "      <td>1760.900024</td>\n",
       "      <td>1891.449951</td>\n",
       "      <td>1728.099976</td>\n",
       "      <td>1839.000000</td>\n",
       "      <td>1839.000000</td>\n",
       "      <td>12296703</td>\n",
       "    </tr>\n",
       "    <tr>\n",
       "      <th>2023-03-16</th>\n",
       "      <td>1861.000000</td>\n",
       "      <td>1875.000000</td>\n",
       "      <td>1795.000000</td>\n",
       "      <td>1843.800049</td>\n",
       "      <td>1843.800049</td>\n",
       "      <td>6509495</td>\n",
       "    </tr>\n",
       "    <tr>\n",
       "      <th>2023-03-17</th>\n",
       "      <td>1901.000000</td>\n",
       "      <td>1918.849976</td>\n",
       "      <td>1845.000000</td>\n",
       "      <td>1876.550049</td>\n",
       "      <td>1876.550049</td>\n",
       "      <td>5969594</td>\n",
       "    </tr>\n",
       "    <tr>\n",
       "      <th>2023-03-20</th>\n",
       "      <td>1837.000000</td>\n",
       "      <td>1849.949951</td>\n",
       "      <td>1777.400024</td>\n",
       "      <td>1804.949951</td>\n",
       "      <td>1804.949951</td>\n",
       "      <td>5168139</td>\n",
       "    </tr>\n",
       "    <tr>\n",
       "      <th>2023-03-21</th>\n",
       "      <td>1836.949951</td>\n",
       "      <td>1861.000000</td>\n",
       "      <td>1804.949951</td>\n",
       "      <td>1824.250000</td>\n",
       "      <td>1824.250000</td>\n",
       "      <td>4094018</td>\n",
       "    </tr>\n",
       "    <tr>\n",
       "      <th>2023-03-22</th>\n",
       "      <td>1834.000000</td>\n",
       "      <td>1850.000000</td>\n",
       "      <td>1806.150024</td>\n",
       "      <td>1815.400024</td>\n",
       "      <td>1815.400024</td>\n",
       "      <td>3248124</td>\n",
       "    </tr>\n",
       "    <tr>\n",
       "      <th>2023-03-23</th>\n",
       "      <td>1794.000000</td>\n",
       "      <td>1834.000000</td>\n",
       "      <td>1780.000000</td>\n",
       "      <td>1794.000000</td>\n",
       "      <td>1794.000000</td>\n",
       "      <td>4108804</td>\n",
       "    </tr>\n",
       "    <tr>\n",
       "      <th>2023-03-24</th>\n",
       "      <td>1796.000000</td>\n",
       "      <td>1823.000000</td>\n",
       "      <td>1695.250000</td>\n",
       "      <td>1740.650024</td>\n",
       "      <td>1740.650024</td>\n",
       "      <td>6187968</td>\n",
       "    </tr>\n",
       "    <tr>\n",
       "      <th>2023-03-27</th>\n",
       "      <td>1740.650024</td>\n",
       "      <td>1757.400024</td>\n",
       "      <td>1682.000000</td>\n",
       "      <td>1723.050049</td>\n",
       "      <td>1723.050049</td>\n",
       "      <td>5053055</td>\n",
       "    </tr>\n",
       "    <tr>\n",
       "      <th>2023-03-28</th>\n",
       "      <td>1727.949951</td>\n",
       "      <td>1733.000000</td>\n",
       "      <td>1573.000000</td>\n",
       "      <td>1600.849976</td>\n",
       "      <td>1600.849976</td>\n",
       "      <td>8144878</td>\n",
       "    </tr>\n",
       "    <tr>\n",
       "      <th>2023-03-29</th>\n",
       "      <td>1602.949951</td>\n",
       "      <td>1756.000000</td>\n",
       "      <td>1591.099976</td>\n",
       "      <td>1740.400024</td>\n",
       "      <td>1740.400024</td>\n",
       "      <td>9332702</td>\n",
       "    </tr>\n",
       "    <tr>\n",
       "      <th>2023-03-31</th>\n",
       "      <td>1788.000000</td>\n",
       "      <td>1825.000000</td>\n",
       "      <td>1740.000000</td>\n",
       "      <td>1750.449951</td>\n",
       "      <td>1750.449951</td>\n",
       "      <td>4893249</td>\n",
       "    </tr>\n",
       "    <tr>\n",
       "      <th>2023-04-03</th>\n",
       "      <td>1750.449951</td>\n",
       "      <td>1754.949951</td>\n",
       "      <td>1695.500000</td>\n",
       "      <td>1717.449951</td>\n",
       "      <td>1717.449951</td>\n",
       "      <td>3445796</td>\n",
       "    </tr>\n",
       "    <tr>\n",
       "      <th>2023-04-05</th>\n",
       "      <td>1717.449951</td>\n",
       "      <td>1737.949951</td>\n",
       "      <td>1671.550049</td>\n",
       "      <td>1698.000000</td>\n",
       "      <td>1698.000000</td>\n",
       "      <td>3690559</td>\n",
       "    </tr>\n",
       "    <tr>\n",
       "      <th>2023-04-06</th>\n",
       "      <td>1705.000000</td>\n",
       "      <td>1793.650024</td>\n",
       "      <td>1688.150024</td>\n",
       "      <td>1754.050049</td>\n",
       "      <td>1754.050049</td>\n",
       "      <td>6012473</td>\n",
       "    </tr>\n",
       "    <tr>\n",
       "      <th>2023-04-10</th>\n",
       "      <td>1774.000000</td>\n",
       "      <td>1812.699951</td>\n",
       "      <td>1760.599976</td>\n",
       "      <td>1797.250000</td>\n",
       "      <td>1797.250000</td>\n",
       "      <td>4197975</td>\n",
       "    </tr>\n",
       "    <tr>\n",
       "      <th>2023-04-11</th>\n",
       "      <td>1810.000000</td>\n",
       "      <td>1829.000000</td>\n",
       "      <td>1792.849976</td>\n",
       "      <td>1803.150024</td>\n",
       "      <td>1803.150024</td>\n",
       "      <td>2883672</td>\n",
       "    </tr>\n",
       "  </tbody>\n",
       "</table>\n",
       "</div>"
      ],
      "text/plain": [
       "                   Open         High          Low        Close    Adj Close  \\\n",
       "Date                                                                          \n",
       "2023-03-13  1917.000000  1985.000000  1857.400024  1874.400024  1874.400024   \n",
       "2023-03-14  1874.000000  1874.849976  1651.349976  1738.199951  1738.199951   \n",
       "2023-03-15  1760.900024  1891.449951  1728.099976  1839.000000  1839.000000   \n",
       "2023-03-16  1861.000000  1875.000000  1795.000000  1843.800049  1843.800049   \n",
       "2023-03-17  1901.000000  1918.849976  1845.000000  1876.550049  1876.550049   \n",
       "2023-03-20  1837.000000  1849.949951  1777.400024  1804.949951  1804.949951   \n",
       "2023-03-21  1836.949951  1861.000000  1804.949951  1824.250000  1824.250000   \n",
       "2023-03-22  1834.000000  1850.000000  1806.150024  1815.400024  1815.400024   \n",
       "2023-03-23  1794.000000  1834.000000  1780.000000  1794.000000  1794.000000   \n",
       "2023-03-24  1796.000000  1823.000000  1695.250000  1740.650024  1740.650024   \n",
       "2023-03-27  1740.650024  1757.400024  1682.000000  1723.050049  1723.050049   \n",
       "2023-03-28  1727.949951  1733.000000  1573.000000  1600.849976  1600.849976   \n",
       "2023-03-29  1602.949951  1756.000000  1591.099976  1740.400024  1740.400024   \n",
       "2023-03-31  1788.000000  1825.000000  1740.000000  1750.449951  1750.449951   \n",
       "2023-04-03  1750.449951  1754.949951  1695.500000  1717.449951  1717.449951   \n",
       "2023-04-05  1717.449951  1737.949951  1671.550049  1698.000000  1698.000000   \n",
       "2023-04-06  1705.000000  1793.650024  1688.150024  1754.050049  1754.050049   \n",
       "2023-04-10  1774.000000  1812.699951  1760.599976  1797.250000  1797.250000   \n",
       "2023-04-11  1810.000000  1829.000000  1792.849976  1803.150024  1803.150024   \n",
       "\n",
       "              Volume  \n",
       "Date                  \n",
       "2023-03-13   7572604  \n",
       "2023-03-14  12679663  \n",
       "2023-03-15  12296703  \n",
       "2023-03-16   6509495  \n",
       "2023-03-17   5969594  \n",
       "2023-03-20   5168139  \n",
       "2023-03-21   4094018  \n",
       "2023-03-22   3248124  \n",
       "2023-03-23   4108804  \n",
       "2023-03-24   6187968  \n",
       "2023-03-27   5053055  \n",
       "2023-03-28   8144878  \n",
       "2023-03-29   9332702  \n",
       "2023-03-31   4893249  \n",
       "2023-04-03   3445796  \n",
       "2023-04-05   3690559  \n",
       "2023-04-06   6012473  \n",
       "2023-04-10   4197975  \n",
       "2023-04-11   2883672  "
      ]
     },
     "execution_count": 45,
     "metadata": {},
     "output_type": "execute_result"
    }
   ],
   "source": [
    "data_1mo_1d"
   ]
  },
  {
   "cell_type": "code",
   "execution_count": null,
   "metadata": {},
   "outputs": [],
   "source": []
  }
 ],
 "metadata": {
  "kernelspec": {
   "display_name": "base",
   "language": "python",
   "name": "python3"
  },
  "language_info": {
   "codemirror_mode": {
    "name": "ipython",
    "version": 3
   },
   "file_extension": ".py",
   "mimetype": "text/x-python",
   "name": "python",
   "nbconvert_exporter": "python",
   "pygments_lexer": "ipython3",
   "version": "3.9.16"
  },
  "orig_nbformat": 4
 },
 "nbformat": 4,
 "nbformat_minor": 2
}
