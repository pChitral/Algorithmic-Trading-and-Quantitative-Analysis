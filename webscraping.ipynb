{
 "cells": [
  {
   "cell_type": "code",
   "execution_count": 1,
   "metadata": {},
   "outputs": [],
   "source": [
    "import requests\n",
    "from bs4 import BeautifulSoup\n",
    "\n",
    "income_statement = {}\n",
    "\n",
    "url = \"https://finance.yahoo.com/quote/AAPL/financials?p=AAPL\"\n",
    "\n",
    "headers = {\"User-Agent\" : \"Chrome/96.0.4664.110\"}\n",
    "page = requests.get(url, headers=headers)\n",
    "page_content = page.content\n",
    "soup = BeautifulSoup(page_content,\"html.parser\")\n",
    "tabl = soup.find_all(\"div\" , {\"class\" : \"M(0) Whs(n) BdEnd Bdc($seperatorColor) D(itb)\"})\n",
    "for t in tabl:\n",
    "    rows = t.find_all(\"div\" , {\"class\": \"D(tbr) fi-row Bgc($hoverBgColor):h\"})\n",
    "    for row in rows:\n",
    "        income_statement[row.get_text(separator=\"|\").split(\"|\")[0]] = row.get_text(separator=\"|\").split(\"|\")[1]\n",
    "        \n"
   ]
  },
  {
   "cell_type": "code",
   "execution_count": 2,
   "metadata": {},
   "outputs": [
    {
     "data": {
      "text/plain": [
       "{'Total Revenue': '394,328,000',\n",
       " 'Cost of Revenue': '223,546,000',\n",
       " 'Gross Profit': '170,782,000',\n",
       " 'Operating Expense': '51,345,000',\n",
       " 'Operating Income': '119,437,000',\n",
       " 'Net Non Operating Interest Income Expense': '-106,000',\n",
       " 'Other Income Expense': '-228,000',\n",
       " 'Pretax Income': '119,103,000',\n",
       " 'Tax Provision': '19,300,000',\n",
       " 'Net Income Common Stockholders': '99,803,000',\n",
       " 'Diluted NI Available to Com Stockholders': '99,803,000',\n",
       " 'Basic EPS': '-',\n",
       " 'Diluted EPS': '-',\n",
       " 'Basic Average Shares': '-',\n",
       " 'Diluted Average Shares': '-',\n",
       " 'Total Operating Income as Reported': '119,437,000',\n",
       " 'Total Expenses': '274,891,000',\n",
       " 'Net Income from Continuing & Discontinued Operation': '99,803,000',\n",
       " 'Normalized Income': '99,803,000',\n",
       " 'Interest Income': '2,825,000',\n",
       " 'Interest Expense': '2,931,000',\n",
       " 'Net Interest Income': '-106,000',\n",
       " 'EBIT': '122,034,000',\n",
       " 'EBITDA': '133,138,000',\n",
       " 'Reconciled Cost of Revenue': '223,546,000',\n",
       " 'Reconciled Depreciation': '11,104,000',\n",
       " 'Net Income from Continuing Operation Net Minority Interest': '99,803,000',\n",
       " 'Normalized EBITDA': '133,138,000',\n",
       " 'Tax Rate for Calcs': '0',\n",
       " 'Tax Effect of Unusual Items': '0'}"
      ]
     },
     "execution_count": 2,
     "metadata": {},
     "output_type": "execute_result"
    }
   ],
   "source": [
    "income_statement"
   ]
  },
  {
   "cell_type": "code",
   "execution_count": 3,
   "metadata": {},
   "outputs": [
    {
     "name": "stderr",
     "output_type": "stream",
     "text": [
      "/var/folders/q4/72ybtynd5sjf5ppl_5vpsw080000gn/T/ipykernel_57904/2834662776.py:80: FutureWarning: The default value of regex will change from True to False in a future version.\n",
      "  income_statatement_dict[ticker][col] = income_statatement_dict[ticker][col].str.replace(',|- ','')\n",
      "/var/folders/q4/72ybtynd5sjf5ppl_5vpsw080000gn/T/ipykernel_57904/2834662776.py:82: FutureWarning: The default value of regex will change from True to False in a future version.\n",
      "  cashflow_st_dict[ticker][col] = cashflow_st_dict[ticker][col].str.replace(',|- ','')\n",
      "/var/folders/q4/72ybtynd5sjf5ppl_5vpsw080000gn/T/ipykernel_57904/2834662776.py:85: FutureWarning: The default value of regex will change from True to False in a future version.\n",
      "  balance_sheet_dict[ticker][col] = balance_sheet_dict[ticker][col].str.replace(',|- ','')\n"
     ]
    }
   ],
   "source": [
    "import requests\n",
    "from bs4 import BeautifulSoup\n",
    "import pandas as pd\n",
    "\n",
    "tickers = [\"AAPL\", \"FB\", \"CSCO\", \"INFY.NS\", \"3988.HK\"]\n",
    "income_statatement_dict = {}\n",
    "balance_sheet_dict = {}\n",
    "cashflow_st_dict = {}\n",
    "\n",
    "for ticker in tickers:\n",
    "    # scraping income statement\n",
    "    url = \"https://finance.yahoo.com/quote/{}/financials?p={}\".format(\n",
    "        ticker, ticker)\n",
    "    income_statement = {}\n",
    "    table_title = {}\n",
    "\n",
    "    headers = {\"User-Agent\": \"Chrome/96.0.4664.110\"}\n",
    "    page = requests.get(url, headers=headers)\n",
    "    page_content = page.content\n",
    "    soup = BeautifulSoup(page_content, \"html.parser\")\n",
    "    tabl = soup.find_all(\n",
    "        \"div\", {\"class\": \"M(0) Whs(n) BdEnd Bdc($seperatorColor) D(itb)\"})\n",
    "    for t in tabl:\n",
    "        heading = t.find_all(\"div\", {\"class\": \"D(tbr) C($primaryColor)\"})\n",
    "        for top_row in heading:\n",
    "            table_title[top_row.get_text(separator=\"|\").split(\n",
    "                \"|\")[0]] = top_row.get_text(separator=\"|\").split(\"|\")[1:]\n",
    "        rows = t.find_all(\n",
    "            \"div\", {\"class\": \"D(tbr) fi-row Bgc($hoverBgColor):h\"})\n",
    "        for row in rows:\n",
    "            income_statement[row.get_text(separator=\"|\").split(\n",
    "                \"|\")[0]] = row.get_text(separator=\"|\").split(\"|\")[1:]\n",
    "\n",
    "    temp = pd.DataFrame(income_statement).T\n",
    "    temp.columns = table_title[\"Breakdown\"]\n",
    "    income_statatement_dict[ticker] = temp\n",
    "\n",
    "    # scraping balance sheet statement\n",
    "    url = \"https://finance.yahoo.com/quote/{}/balance-sheet?p={}\".format(\n",
    "        ticker, ticker)\n",
    "    balance_sheet = {}\n",
    "    table_title = {}\n",
    "\n",
    "    headers = {\"User-Agent\": \"Chrome/96.0.4664.110\"}\n",
    "    page = requests.get(url, headers=headers)\n",
    "    page_content = page.content\n",
    "    soup = BeautifulSoup(page_content, \"html.parser\")\n",
    "    tabl = soup.find_all(\n",
    "        \"div\", {\"class\": \"M(0) Whs(n) BdEnd Bdc($seperatorColor) D(itb)\"})\n",
    "    for t in tabl:\n",
    "        heading = t.find_all(\"div\", {\"class\": \"D(tbr) C($primaryColor)\"})\n",
    "        for top_row in heading:\n",
    "            table_title[top_row.get_text(separator=\"|\").split(\n",
    "                \"|\")[0]] = top_row.get_text(separator=\"|\").split(\"|\")[1:]\n",
    "        rows = t.find_all(\n",
    "            \"div\", {\"class\": \"D(tbr) fi-row Bgc($hoverBgColor):h\"})\n",
    "        for row in rows:\n",
    "            balance_sheet[row.get_text(separator=\"|\").split(\n",
    "                \"|\")[0]] = row.get_text(separator=\"|\").split(\"|\")[1:]\n",
    "\n",
    "    temp = pd.DataFrame(balance_sheet).T\n",
    "    temp.columns = table_title[\"Breakdown\"]\n",
    "    balance_sheet_dict[ticker] = temp\n",
    "\n",
    "    # scraping cashflow statement\n",
    "    url = \"https://finance.yahoo.com/quote/{}/cash-flow?p={}\".format(\n",
    "        ticker, ticker)\n",
    "    cashflow_statement = {}\n",
    "    table_title = {}\n",
    "\n",
    "    headers = {\"User-Agent\": \"Chrome/96.0.4664.110\"}\n",
    "    page = requests.get(url, headers=headers)\n",
    "    page_content = page.content\n",
    "    soup = BeautifulSoup(page_content, \"html.parser\")\n",
    "    tabl = soup.find_all(\n",
    "        \"div\", {\"class\": \"M(0) Whs(n) BdEnd Bdc($seperatorColor) D(itb)\"})\n",
    "    for t in tabl:\n",
    "        heading = t.find_all(\"div\", {\"class\": \"D(tbr) C($primaryColor)\"})\n",
    "        for top_row in heading:\n",
    "            table_title[top_row.get_text(separator=\"|\").split(\n",
    "                \"|\")[0]] = top_row.get_text(separator=\"|\").split(\"|\")[1:]\n",
    "        rows = t.find_all(\n",
    "            \"div\", {\"class\": \"D(tbr) fi-row Bgc($hoverBgColor):h\"})\n",
    "        for row in rows:\n",
    "            cashflow_statement[row.get_text(separator=\"|\").split(\n",
    "                \"|\")[0]] = row.get_text(separator=\"|\").split(\"|\")[1:]\n",
    "\n",
    "    temp = pd.DataFrame(cashflow_statement).T\n",
    "    temp.columns = table_title[\"Breakdown\"]\n",
    "    cashflow_st_dict[ticker] = temp\n",
    "\n",
    "# converting dataframe values to numeric\n",
    "for ticker in tickers:\n",
    "    for col in income_statatement_dict[ticker].columns:\n",
    "        income_statatement_dict[ticker][col] = income_statatement_dict[ticker][col].str.replace(\n",
    "            ',|- ', '')\n",
    "        income_statatement_dict[ticker][col] = pd.to_numeric(\n",
    "            income_statatement_dict[ticker][col], errors='coerce')\n",
    "        cashflow_st_dict[ticker][col] = cashflow_st_dict[ticker][col].str.replace(\n",
    "            ',|- ', '')\n",
    "        cashflow_st_dict[ticker][col] = pd.to_numeric(\n",
    "            cashflow_st_dict[ticker][col], errors='coerce')\n",
    "        if col != \"ttm\":  # yahoo has ttm column for income statement and cashflow statement only\n",
    "            balance_sheet_dict[ticker][col] = balance_sheet_dict[ticker][col].str.replace(\n",
    "                ',|- ', '')\n",
    "            balance_sheet_dict[ticker][col] = pd.to_numeric(\n",
    "                balance_sheet_dict[ticker][col], errors='coerce')\n"
   ]
  },
  {
   "cell_type": "code",
   "execution_count": 12,
   "metadata": {},
   "outputs": [
    {
     "data": {
      "text/plain": [
       "dict_keys(['Total Assets', 'Total Liabilities Net Minority Interest', 'Total Equity Gross Minority Interest', 'Total Capitalization', 'Preferred Stock Equity', 'Common Stock Equity', 'Net Tangible Assets', 'Invested Capital', 'Tangible Book Value', 'Total Debt', 'Share Issued', 'Ordinary Shares Number'])"
      ]
     },
     "execution_count": 12,
     "metadata": {},
     "output_type": "execute_result"
    }
   ],
   "source": [
    "balance_sheet.keys()"
   ]
  },
  {
   "attachments": {},
   "cell_type": "markdown",
   "metadata": {},
   "source": [
    "Getting key statistics data from yahoo finance using webscraping"
   ]
  },
  {
   "cell_type": "markdown",
   "metadata": {},
   "source": []
  },
  {
   "cell_type": "code",
   "execution_count": 13,
   "metadata": {},
   "outputs": [],
   "source": [
    "import requests\n",
    "from bs4 import BeautifulSoup\n",
    "\n",
    "tickers = [\"AAPL\",\"FB\",\"CSCO\",\"INFY.NS\",\"3988.HK\"]\n",
    "key_statistics = {}\n",
    "\n",
    "for ticker in tickers:\n",
    "    #scraping key statistics\n",
    "    url = \"https://finance.yahoo.com/quote/{}/key-statistics?p={}\".format(ticker,ticker)    \n",
    "    headers = {\"User-Agent\" : \"Chrome/96.0.4664.110\"}\n",
    "    page = requests.get(url, headers=headers)\n",
    "    page_content = page.content\n",
    "    soup = BeautifulSoup(page_content,\"html.parser\")\n",
    "    tabl = soup.find_all(\"table\" , {\"class\" : \"W(100%) Bdcl(c)\"}) #remove/add the trailing space if getting error\n",
    "    \n",
    "    temp_stats = {}\n",
    "    for t in tabl:\n",
    "        rows = t.find_all(\"tr\")\n",
    "        for row in rows:\n",
    "            temp_stats[row.get_text(separator=\"|\").split(\"|\")[0]] = row.get_text(separator=\"|\").split(\"|\")[-1]\n",
    "    \n",
    "    key_statistics[ticker] = temp_stats"
   ]
  },
  {
   "cell_type": "code",
   "execution_count": 15,
   "metadata": {},
   "outputs": [
    {
     "data": {
      "text/plain": [
       "{'Beta (5Y Monthly)': '1.22',\n",
       " '52-Week Change': '-26.88%',\n",
       " 'S&P500 52-Week Change': '-19.75%',\n",
       " '52 Week High': '182.94',\n",
       " '52 Week Low': '129.04',\n",
       " '50-Day Moving Average': '144.13',\n",
       " '200-Day Moving Average': '152.13',\n",
       " 'Avg Vol (3 month)': '86.54M',\n",
       " 'Avg Vol (10 day)': '89.02M',\n",
       " 'Shares Outstanding': '15.91B',\n",
       " 'Implied Shares Outstanding': 'N/A',\n",
       " 'Float': '15.89B',\n",
       " '% Held by Insiders': '0.07%',\n",
       " '% Held by Institutions': '60.03%',\n",
       " 'Shares Short (Nov 29, 2022)': '125.72M',\n",
       " 'Short Ratio (Nov 29, 2022)': '1.52',\n",
       " 'Short % of Float (Nov 29, 2022)': '0.79%',\n",
       " 'Short % of Shares Outstanding (Nov 29, 2022)': '0.79%',\n",
       " 'Shares Short (prior month Oct 30, 2022)': '103.18M',\n",
       " 'Forward Annual Dividend Rate': '0.92',\n",
       " 'Forward Annual Dividend Yield': '0.70%',\n",
       " 'Trailing Annual Dividend Rate': '0.90',\n",
       " 'Trailing Annual Dividend Yield': '0.68%',\n",
       " '5 Year Average Dividend Yield': '0.99',\n",
       " 'Payout Ratio': '14.73%',\n",
       " 'Dividend Date': 'Nov 09, 2022',\n",
       " 'Ex-Dividend Date': 'Nov 03, 2022',\n",
       " 'Last Split Factor': '4:1',\n",
       " 'Last Split Date': 'Aug 30, 2020',\n",
       " 'Fiscal Year Ends': 'Sep 23, 2022',\n",
       " 'Most Recent Quarter': 'Sep 23, 2022',\n",
       " 'Profit Margin': '25.31%',\n",
       " 'Operating Margin': '30.29%',\n",
       " 'Return on Assets': '21.21%',\n",
       " 'Return on Equity': '175.46%',\n",
       " 'Revenue': '394.33B',\n",
       " 'Revenue Per Share': '24.32',\n",
       " 'Quarterly Revenue Growth': '8.10%',\n",
       " 'Gross Profit': '170.78B',\n",
       " 'EBITDA': '130.54B',\n",
       " 'Net Income Avi to Common': '99.8B',\n",
       " 'Diluted EPS': '6.11',\n",
       " 'Quarterly Earnings Growth': '0.80%',\n",
       " 'Total Cash': '48.3B',\n",
       " 'Total Cash Per Share': '3.04',\n",
       " 'Total Debt': '132.48B',\n",
       " 'Total Debt/Equity': '261.45',\n",
       " 'Current Ratio': '0.88',\n",
       " 'Book Value Per Share': '3.18',\n",
       " 'Operating Cash Flow': '122.15B',\n",
       " 'Levered Free Cash Flow': '90.22B'}"
      ]
     },
     "execution_count": 15,
     "metadata": {},
     "output_type": "execute_result"
    }
   ],
   "source": [
    "key_statistics[\"AAPL\"]"
   ]
  },
  {
   "cell_type": "code",
   "execution_count": null,
   "metadata": {},
   "outputs": [],
   "source": []
  }
 ],
 "metadata": {
  "kernelspec": {
   "display_name": "base",
   "language": "python",
   "name": "python3"
  },
  "language_info": {
   "codemirror_mode": {
    "name": "ipython",
    "version": 3
   },
   "file_extension": ".py",
   "mimetype": "text/x-python",
   "name": "python",
   "nbconvert_exporter": "python",
   "pygments_lexer": "ipython3",
   "version": "3.9.12"
  },
  "orig_nbformat": 4,
  "vscode": {
   "interpreter": {
    "hash": "cd78fef2128015050713e82ca51c6520b11aee7c9ee8df750520bbbc7384cbaa"
   }
  }
 },
 "nbformat": 4,
 "nbformat_minor": 2
}
