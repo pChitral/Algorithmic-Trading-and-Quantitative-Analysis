{
 "cells": [
  {
   "cell_type": "code",
   "execution_count": 1,
   "metadata": {},
   "outputs": [],
   "source": [
    "import requests\n",
    "from bs4 import BeautifulSoup\n",
    "\n",
    "income_statement = {}\n",
    "\n",
    "url = \"https://finance.yahoo.com/quote/AAPL/financials?p=AAPL\"\n",
    "\n",
    "headers = {\"User-Agent\" : \"Chrome/96.0.4664.110\"}\n",
    "page = requests.get(url, headers=headers)\n",
    "page_content = page.content\n",
    "soup = BeautifulSoup(page_content,\"html.parser\")\n",
    "tabl = soup.find_all(\"div\" , {\"class\" : \"M(0) Whs(n) BdEnd Bdc($seperatorColor) D(itb)\"})\n",
    "for t in tabl:\n",
    "    rows = t.find_all(\"div\" , {\"class\": \"D(tbr) fi-row Bgc($hoverBgColor):h\"})\n",
    "    for row in rows:\n",
    "        income_statement[row.get_text(separator=\"|\").split(\"|\")[0]] = row.get_text(separator=\"|\").split(\"|\")[1]\n",
    "        \n"
   ]
  },
  {
   "cell_type": "code",
   "execution_count": 2,
   "metadata": {},
   "outputs": [
    {
     "data": {
      "text/plain": [
       "{'Total Revenue': '394,328,000',\n",
       " 'Cost of Revenue': '223,546,000',\n",
       " 'Gross Profit': '170,782,000',\n",
       " 'Operating Expense': '51,345,000',\n",
       " 'Operating Income': '119,437,000',\n",
       " 'Net Non Operating Interest Income Expense': '-106,000',\n",
       " 'Other Income Expense': '-228,000',\n",
       " 'Pretax Income': '119,103,000',\n",
       " 'Tax Provision': '19,300,000',\n",
       " 'Net Income Common Stockholders': '99,803,000',\n",
       " 'Diluted NI Available to Com Stockholders': '99,803,000',\n",
       " 'Basic EPS': '-',\n",
       " 'Diluted EPS': '-',\n",
       " 'Basic Average Shares': '-',\n",
       " 'Diluted Average Shares': '-',\n",
       " 'Total Operating Income as Reported': '119,437,000',\n",
       " 'Total Expenses': '274,891,000',\n",
       " 'Net Income from Continuing & Discontinued Operation': '99,803,000',\n",
       " 'Normalized Income': '99,803,000',\n",
       " 'Interest Income': '2,825,000',\n",
       " 'Interest Expense': '2,931,000',\n",
       " 'Net Interest Income': '-106,000',\n",
       " 'EBIT': '122,034,000',\n",
       " 'EBITDA': '133,138,000',\n",
       " 'Reconciled Cost of Revenue': '223,546,000',\n",
       " 'Reconciled Depreciation': '11,104,000',\n",
       " 'Net Income from Continuing Operation Net Minority Interest': '99,803,000',\n",
       " 'Normalized EBITDA': '133,138,000',\n",
       " 'Tax Rate for Calcs': '0',\n",
       " 'Tax Effect of Unusual Items': '0'}"
      ]
     },
     "execution_count": 2,
     "metadata": {},
     "output_type": "execute_result"
    }
   ],
   "source": [
    "income_statement"
   ]
  },
  {
   "cell_type": "code",
   "execution_count": null,
   "metadata": {},
   "outputs": [],
   "source": []
  }
 ],
 "metadata": {
  "kernelspec": {
   "display_name": "base",
   "language": "python",
   "name": "python3"
  },
  "language_info": {
   "codemirror_mode": {
    "name": "ipython",
    "version": 3
   },
   "file_extension": ".py",
   "mimetype": "text/x-python",
   "name": "python",
   "nbconvert_exporter": "python",
   "pygments_lexer": "ipython3",
   "version": "3.9.12"
  },
  "orig_nbformat": 4,
  "vscode": {
   "interpreter": {
    "hash": "cd78fef2128015050713e82ca51c6520b11aee7c9ee8df750520bbbc7384cbaa"
   }
  }
 },
 "nbformat": 4,
 "nbformat_minor": 2
}
