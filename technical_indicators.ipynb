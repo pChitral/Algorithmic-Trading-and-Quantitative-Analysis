{
 "cells": [
  {
   "attachments": {},
   "cell_type": "markdown",
   "metadata": {},
   "source": [
    "# Coding MACD"
   ]
  },
  {
   "cell_type": "code",
   "execution_count": 1,
   "metadata": {},
   "outputs": [
    {
     "name": "stdout",
     "output_type": "stream",
     "text": [
      "[*********************100%***********************]  1 of 1 completed\n",
      "[*********************100%***********************]  1 of 1 completed\n",
      "[*********************100%***********************]  1 of 1 completed\n"
     ]
    }
   ],
   "source": [
    "import yfinance as yf\n",
    "\n",
    "# Download historical data for required stocks\n",
    "tickers = [\"MSFT\",\"AAPL\",\"GOOG\"]\n",
    "ohlcv_data = {}\n",
    "\n",
    "# looping over tickers and storing OHLCV dataframe in dictionary\n",
    "for ticker in tickers:\n",
    "    temp = yf.download(ticker,period='1mo',interval='15m')\n",
    "    temp.dropna(how=\"any\",inplace=True)\n",
    "    ohlcv_data[ticker] = temp\n",
    "\n",
    "def MACD(DF, a=12 ,b=26, c=9):\n",
    "    \"\"\"function to calculate MACD\n",
    "       typical values a(fast moving average) = 12; \n",
    "                      b(slow moving average) =26; \n",
    "                      c(signal line ma window) =9\"\"\"\n",
    "    df = DF.copy()\n",
    "    df[\"ma_fast\"] = df[\"Adj Close\"].ewm(span=a, min_periods=a).mean()\n",
    "    df[\"ma_slow\"] = df[\"Adj Close\"].ewm(span=b, min_periods=b).mean()\n",
    "    df[\"macd\"] = df[\"ma_fast\"] - df[\"ma_slow\"]\n",
    "    df[\"signal\"] = df[\"macd\"].ewm(span=c, min_periods=c).mean()\n",
    "    return df.loc[:,[\"macd\",\"signal\"]]\n",
    "\n",
    "for ticker in ohlcv_data:\n",
    "    ohlcv_data[ticker][[\"MACD\",\"SIGNAL\"]] = MACD(ohlcv_data[ticker], a=12 ,b=26, c=9)"
   ]
  },
  {
   "cell_type": "code",
   "execution_count": 5,
   "metadata": {},
   "outputs": [
    {
     "data": {
      "text/html": [
       "<div>\n",
       "<style scoped>\n",
       "    .dataframe tbody tr th:only-of-type {\n",
       "        vertical-align: middle;\n",
       "    }\n",
       "\n",
       "    .dataframe tbody tr th {\n",
       "        vertical-align: top;\n",
       "    }\n",
       "\n",
       "    .dataframe thead th {\n",
       "        text-align: right;\n",
       "    }\n",
       "</style>\n",
       "<table border=\"1\" class=\"dataframe\">\n",
       "  <thead>\n",
       "    <tr style=\"text-align: right;\">\n",
       "      <th></th>\n",
       "      <th>Open</th>\n",
       "      <th>High</th>\n",
       "      <th>Low</th>\n",
       "      <th>Close</th>\n",
       "      <th>Adj Close</th>\n",
       "      <th>Volume</th>\n",
       "      <th>MACD</th>\n",
       "      <th>SIGNAL</th>\n",
       "    </tr>\n",
       "    <tr>\n",
       "      <th>Datetime</th>\n",
       "      <th></th>\n",
       "      <th></th>\n",
       "      <th></th>\n",
       "      <th></th>\n",
       "      <th></th>\n",
       "      <th></th>\n",
       "      <th></th>\n",
       "      <th></th>\n",
       "    </tr>\n",
       "  </thead>\n",
       "  <tbody>\n",
       "    <tr>\n",
       "      <th>2023-02-07 15:00:00-05:00</th>\n",
       "      <td>107.230003</td>\n",
       "      <td>107.449997</td>\n",
       "      <td>106.760002</td>\n",
       "      <td>106.980003</td>\n",
       "      <td>106.980003</td>\n",
       "      <td>1074812</td>\n",
       "      <td>0.647919</td>\n",
       "      <td>0.510550</td>\n",
       "    </tr>\n",
       "    <tr>\n",
       "      <th>2023-02-07 15:15:00-05:00</th>\n",
       "      <td>106.980003</td>\n",
       "      <td>107.610001</td>\n",
       "      <td>106.980003</td>\n",
       "      <td>107.610001</td>\n",
       "      <td>107.610001</td>\n",
       "      <td>986319</td>\n",
       "      <td>0.715457</td>\n",
       "      <td>0.551532</td>\n",
       "    </tr>\n",
       "    <tr>\n",
       "      <th>2023-02-07 15:30:00-05:00</th>\n",
       "      <td>107.614998</td>\n",
       "      <td>107.989998</td>\n",
       "      <td>107.570000</td>\n",
       "      <td>107.959999</td>\n",
       "      <td>107.959999</td>\n",
       "      <td>1005700</td>\n",
       "      <td>0.788139</td>\n",
       "      <td>0.598853</td>\n",
       "    </tr>\n",
       "    <tr>\n",
       "      <th>2023-02-07 15:45:00-05:00</th>\n",
       "      <td>107.970001</td>\n",
       "      <td>108.669998</td>\n",
       "      <td>107.970001</td>\n",
       "      <td>108.010002</td>\n",
       "      <td>108.010002</td>\n",
       "      <td>2801961</td>\n",
       "      <td>0.840090</td>\n",
       "      <td>0.647100</td>\n",
       "    </tr>\n",
       "    <tr>\n",
       "      <th>2023-02-07 16:00:00-05:00</th>\n",
       "      <td>108.040001</td>\n",
       "      <td>108.040001</td>\n",
       "      <td>108.040001</td>\n",
       "      <td>108.040001</td>\n",
       "      <td>108.040001</td>\n",
       "      <td>0</td>\n",
       "      <td>0.873612</td>\n",
       "      <td>0.692403</td>\n",
       "    </tr>\n",
       "  </tbody>\n",
       "</table>\n",
       "</div>"
      ],
      "text/plain": [
       "                                 Open        High         Low       Close  \\\n",
       "Datetime                                                                    \n",
       "2023-02-07 15:00:00-05:00  107.230003  107.449997  106.760002  106.980003   \n",
       "2023-02-07 15:15:00-05:00  106.980003  107.610001  106.980003  107.610001   \n",
       "2023-02-07 15:30:00-05:00  107.614998  107.989998  107.570000  107.959999   \n",
       "2023-02-07 15:45:00-05:00  107.970001  108.669998  107.970001  108.010002   \n",
       "2023-02-07 16:00:00-05:00  108.040001  108.040001  108.040001  108.040001   \n",
       "\n",
       "                            Adj Close   Volume      MACD    SIGNAL  \n",
       "Datetime                                                            \n",
       "2023-02-07 15:00:00-05:00  106.980003  1074812  0.647919  0.510550  \n",
       "2023-02-07 15:15:00-05:00  107.610001   986319  0.715457  0.551532  \n",
       "2023-02-07 15:30:00-05:00  107.959999  1005700  0.788139  0.598853  \n",
       "2023-02-07 15:45:00-05:00  108.010002  2801961  0.840090  0.647100  \n",
       "2023-02-07 16:00:00-05:00  108.040001        0  0.873612  0.692403  "
      ]
     },
     "execution_count": 5,
     "metadata": {},
     "output_type": "execute_result"
    }
   ],
   "source": [
    "ohlcv_data[\"GOOG\"].tail()"
   ]
  },
  {
   "cell_type": "code",
   "execution_count": null,
   "metadata": {},
   "outputs": [],
   "source": []
  }
 ],
 "metadata": {
  "kernelspec": {
   "display_name": "base",
   "language": "python",
   "name": "python3"
  },
  "language_info": {
   "codemirror_mode": {
    "name": "ipython",
    "version": 3
   },
   "file_extension": ".py",
   "mimetype": "text/x-python",
   "name": "python",
   "nbconvert_exporter": "python",
   "pygments_lexer": "ipython3",
   "version": "3.9.12"
  },
  "orig_nbformat": 4,
  "vscode": {
   "interpreter": {
    "hash": "cd78fef2128015050713e82ca51c6520b11aee7c9ee8df750520bbbc7384cbaa"
   }
  }
 },
 "nbformat": 4,
 "nbformat_minor": 2
}
